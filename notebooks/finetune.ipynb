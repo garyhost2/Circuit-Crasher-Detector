{
 "cells": [
  {
   "cell_type": "code",
   "execution_count": 1,
   "id": "9553bb45",
   "metadata": {
    "execution": {
     "iopub.execute_input": "2025-01-15T10:47:37.734943Z",
     "iopub.status.busy": "2025-01-15T10:47:37.734656Z",
     "iopub.status.idle": "2025-01-15T10:47:46.170683Z",
     "shell.execute_reply": "2025-01-15T10:47:46.169741Z"
    },
    "papermill": {
     "duration": 8.446521,
     "end_time": "2025-01-15T10:47:46.172456",
     "exception": false,
     "start_time": "2025-01-15T10:47:37.725935",
     "status": "completed"
    },
    "tags": []
   },
   "outputs": [],
   "source": [
    "import os\n",
    "import time\n",
    "\n",
    "import torch\n",
    "import torchvision\n",
    "import shutil\n",
    "import torch.nn as nn\n",
    "import numpy as np\n",
    "import pandas as pd\n",
    "from tqdm import tqdm\n",
    "\n",
    "from torch.utils.data import Dataset, DataLoader, random_split\n",
    "from torchvision import transforms, utils\n",
    "from torchvision.io import read_image, ImageReadMode\n",
    "\n",
    "from PIL import Image, ImageDraw, ImageFont\n"
   ]
  },
  {
   "cell_type": "markdown",
   "id": "500ea9a4",
   "metadata": {},
   "source": [
    "## Paths and parameters"
   ]
  },
  {
   "cell_type": "code",
   "execution_count": null,
   "id": "bb99078a",
   "metadata": {},
   "outputs": [],
   "source": [
    "images_root = '/media/eyildiz/data/zstack_analys/cnn_dataset/0.1_training_data'\n",
    "train_csv = images_root + '/train_targets.csv'\n",
    "val_csv = images_root + '/val_targets.csv'\n",
    "test_csv = images_root+ '/test_targets.csv'\n",
    "\n",
    "#model train parameters\n",
    "base_path = './saved/best_model.pth'\n",
    "learning_rate = 1e-4\n",
    "batch_size = 64\n",
    "total_epochs = 50\n",
    "\n",
    "\n",
    "device = torch.device(\"cuda:0\" if torch.cuda.is_available() else \"cpu\")"
   ]
  },
  {
   "cell_type": "markdown",
   "id": "3d754ede",
   "metadata": {
    "papermill": {
     "duration": 0.006182,
     "end_time": "2025-01-15T10:47:46.185795",
     "exception": false,
     "start_time": "2025-01-15T10:47:46.179613",
     "status": "completed"
    },
    "tags": []
   },
   "source": [
    "## Preparing the Datasets"
   ]
  },
  {
   "cell_type": "code",
   "execution_count": 3,
   "id": "9cab41ce",
   "metadata": {
    "execution": {
     "iopub.execute_input": "2025-01-15T10:47:46.465720Z",
     "iopub.status.busy": "2025-01-15T10:47:46.465384Z",
     "iopub.status.idle": "2025-01-15T10:47:46.481866Z",
     "shell.execute_reply": "2025-01-15T10:47:46.480971Z"
    },
    "papermill": {
     "duration": 0.024808,
     "end_time": "2025-01-15T10:47:46.483238",
     "exception": false,
     "start_time": "2025-01-15T10:47:46.458430",
     "status": "completed"
    },
    "tags": []
   },
   "outputs": [],
   "source": [
    "from enum import Enum\n",
    "from typing import Optional, Union, List\n",
    "\n",
    "class CacheStrategy(Enum):\n",
    "    NO_CACHE = \"no_cache\"\n",
    "    DISK_CACHE = \"disk_cache\"\n",
    "    MEMORY_CACHE = \"memory_cache\"\n",
    "\n",
    "class LoadDataset(Dataset):\n",
    "    def __init__(\n",
    "        self,\n",
    "        path_csv: str,\n",
    "        images_path: str,\n",
    "        cache_strategy: Union[str, CacheStrategy] = CacheStrategy.MEMORY_CACHE,\n",
    "        transforms: Optional[transforms.Compose] = None,\n",
    "        img_size: int = 432,\n",
    "        cache_dir: str = \"cache\"\n",
    "    ):\n",
    "        super().__init__()\n",
    "        self.annots = pd.read_csv(path_csv)\n",
    "        self.images_path = images_path\n",
    "        self.transforms = transforms\n",
    "        self.cache_dir = cache_dir\n",
    "        self.img_size = img_size\n",
    "        \n",
    "        # Convert string to enum if necessary\n",
    "        if isinstance(cache_strategy, str):\n",
    "            cache_strategy = CacheStrategy(cache_strategy)\n",
    "        self.cache_strategy = cache_strategy\n",
    "        \n",
    "        # Check for missing files\n",
    "        self._check_missing_files(handle_missing='remove')\n",
    "        \n",
    "        # Initialize cache-related attributes\n",
    "        self.cached_data = None\n",
    "        self._setup_cache()\n",
    "        \n",
    "    def _setup_cache(self):\n",
    "        \"\"\"Set up caching based on the selected strategy\"\"\"\n",
    "        if self.cache_strategy in [CacheStrategy.DISK_CACHE, CacheStrategy.MEMORY_CACHE]:\n",
    "            if not os.path.exists(self.cache_dir):\n",
    "                os.makedirs(self.cache_dir)\n",
    "                \n",
    "        if self.cache_strategy == CacheStrategy.MEMORY_CACHE:\n",
    "            self.cached_data = self._load_or_cache()\n",
    "    \n",
    "    def _get_cache_path(self, index: int) -> str:\n",
    "        \"\"\"Get the cache file path for a given index\"\"\"\n",
    "        return os.path.join(self.cache_dir, f\"cached_{self.img_size}_{index}.pt\")\n",
    "    \n",
    "    def _load_or_cache(self) -> List[torch.Tensor]:\n",
    "        \"\"\"Load all images into memory cache\"\"\"\n",
    "        cached_data = []\n",
    "        for i, img_path in enumerate(tqdm(self.annots.iloc[:, 0], desc='Caching Images to Memory')):\n",
    "            cache_path = self._get_cache_path(i)\n",
    "            \n",
    "            if os.path.exists(cache_path):\n",
    "                cached_data.append(torch.load(cache_path, weights_only=False))\n",
    "            else:\n",
    "                img = self._load_and_process_image(img_path)\n",
    "                if self.cache_strategy != CacheStrategy.NO_CACHE:\n",
    "                    torch.save(img, cache_path)\n",
    "                cached_data.append(img)\n",
    "                \n",
    "        return cached_data\n",
    "    \n",
    "    def _load_and_process_image(self, img_path: str) -> torch.Tensor:\n",
    "        \"\"\"Load and process a single image\"\"\"\n",
    "        img_path_full = os.path.join(self.images_path, img_path)\n",
    "        try:\n",
    "            img = Image.open(img_path_full)\n",
    "            img = transforms.functional.resize(img, self.img_size, interpolation=transforms.InterpolationMode.BICUBIC)\n",
    "            return img\n",
    "        except FileNotFoundError:\n",
    "            print(f\"Image not found at path: {img_path_full}\")\n",
    "            raise\n",
    "    \n",
    "    def _get_image(self, index: int) -> torch.Tensor:\n",
    "        \"\"\"Get image based on caching strategy\"\"\"\n",
    "        if self.cache_strategy == CacheStrategy.MEMORY_CACHE:\n",
    "            return self.cached_data[index]\n",
    "        \n",
    "        elif self.cache_strategy == CacheStrategy.DISK_CACHE:\n",
    "            cache_path = self._get_cache_path(index)\n",
    "            if os.path.exists(cache_path):\n",
    "                return torch.load(cache_path, weights_only=False)\n",
    "            else:\n",
    "                img = self._load_and_process_image(self.annots.iloc[index, 0])\n",
    "                torch.save(img, cache_path)\n",
    "                return img\n",
    "                \n",
    "        else:  # NO_CACHE\n",
    "            return self._load_and_process_image(self.annots.iloc[index, 0])\n",
    "    \n",
    "    def __len__(self) -> int:\n",
    "        return len(self.annots)\n",
    "    \n",
    "    def __getitem__(self, index: int) -> tuple:\n",
    "        img = self._get_image(index)\n",
    "        target = torch.tensor(self.annots.iloc[index, 1], dtype=torch.float)\n",
    "        \n",
    "        if self.transforms:\n",
    "            img = self.transforms(img)\n",
    "            \n",
    "        return img, target\n",
    "    \n",
    "    def visualize(self, idx: int) -> None:\n",
    "        \"\"\"Visualize a single image with its target value\"\"\"\n",
    "        img, target = self.__getitem__(idx)\n",
    "        if isinstance(img, torch.Tensor):\n",
    "            tensor_to_pil = transforms.ToPILImage()\n",
    "            img = tensor_to_pil(img)\n",
    "        draw = ImageDraw.Draw(img)\n",
    "        text = f'Offset = {target.item():.3f}'\n",
    "        font = ImageFont.load_default()\n",
    "        draw.text((30, 20), text, font=font)\n",
    "        return img\n",
    "        \n",
    "    \n",
    "    def _check_missing_files(self, handle_missing: str = 'log') -> List[str]:\n",
    "        \"\"\"Check for missing image files and handle them based on the provided method\"\"\"\n",
    "        missing_files = []\n",
    "        \n",
    "        for idx, row in self.annots.iterrows():\n",
    "            img_path = row.iloc[0]\n",
    "            full_path = os.path.join(self.images_path, img_path)\n",
    "            if not os.path.exists(full_path):\n",
    "                missing_files.append(full_path)\n",
    "                print(f\"Missing file: {full_path}\")\n",
    "        \n",
    "        if handle_missing == 'remove' and missing_files:\n",
    "            self.annots = self.annots[~self.annots.iloc[:, 0].isin([os.path.relpath(f, self.images_path) for f in missing_files])]\n",
    "            self.annots.reset_index(drop=True, inplace=True)\n",
    "            print(f\"Removed {len(missing_files)} missing file entries from the dataset.\")\n",
    "        \n",
    "        return missing_files"
   ]
  },
  {
   "cell_type": "code",
   "execution_count": 4,
   "id": "9cc8aa68",
   "metadata": {
    "execution": {
     "iopub.execute_input": "2025-01-15T10:47:46.495942Z",
     "iopub.status.busy": "2025-01-15T10:47:46.495637Z",
     "iopub.status.idle": "2025-01-15T10:47:46.545724Z",
     "shell.execute_reply": "2025-01-15T10:47:46.544742Z"
    },
    "papermill": {
     "duration": 0.058038,
     "end_time": "2025-01-15T10:47:46.547224",
     "exception": false,
     "start_time": "2025-01-15T10:47:46.489186",
     "status": "completed"
    },
    "tags": []
   },
   "outputs": [],
   "source": [
    "import torch\n",
    "from torchvision import transforms\n",
    "from torchvision.transforms import InterpolationMode\n",
    "\n",
    "# Batch size and device configuration\n",
    "\n",
    "# Data transformations\n",
    "data_transforms = {\n",
    "    'train': transforms.Compose([\n",
    "        # Geometric augmentations with RandomChoice\n",
    "\n",
    "        transforms.RandomAffine(\n",
    "            degrees=(-10, 10),\n",
    "            translate=(0.3, 0.1),\n",
    "            fill=2,\n",
    "            interpolation = InterpolationMode.BILINEAR\n",
    "        ),\n",
    "\n",
    "        transforms.RandomHorizontalFlip(p=0.2),\n",
    "        transforms.RandomVerticalFlip(p=0.2),\n",
    "        \n",
    "        # Color augmentations\n",
    "        transforms.ColorJitter(brightness=0.2, contrast=0.2),\n",
    "        \n",
    "        # Conversion and normalization\n",
    "        transforms.ToTensor(),\n",
    "        transforms.Normalize(mean=[0.0331], std=[0.0228]),  # Calculated on this dataset\n",
    "        transforms.RandomErasing(p = 0.2, scale = (0.01, 0.03))\n",
    "    ]),\n",
    "\n",
    "    'test': transforms.Compose([\n",
    "        transforms.ToTensor(),\n",
    "        transforms.Normalize(mean=[0.0331], std=[0.0228]),  # Calculated on this dataset\n",
    "    ]),\n",
    "}\n"
   ]
  },
  {
   "cell_type": "code",
   "execution_count": 5,
   "id": "c495034f",
   "metadata": {
    "execution": {
     "iopub.execute_input": "2025-01-15T10:47:46.561580Z",
     "iopub.status.busy": "2025-01-15T10:47:46.561271Z",
     "iopub.status.idle": "2025-01-15T10:54:23.486613Z",
     "shell.execute_reply": "2025-01-15T10:54:23.485600Z"
    },
    "papermill": {
     "duration": 396.934477,
     "end_time": "2025-01-15T10:54:23.487799",
     "exception": false,
     "start_time": "2025-01-15T10:47:46.553322",
     "status": "completed"
    },
    "tags": []
   },
   "outputs": [
    {
     "name": "stderr",
     "output_type": "stream",
     "text": [
      "Caching Images to Memory: 100%|██████████| 28904/28904 [04:29<00:00, 107.13it/s]\n",
      "Caching Images to Memory: 100%|██████████| 3212/3212 [00:24<00:00, 130.78it/s]\n"
     ]
    }
   ],
   "source": [
    "# Load the dataset with specified transformations\n",
    "\n",
    "\n",
    "trainset = LoadDataset(\n",
    "    train_csv,\n",
    "    images_root,\n",
    "    transforms=data_transforms['train'],\n",
    "    cache_dir=\"cache_train\"\n",
    ")\n",
    "\n",
    "valset = LoadDataset(\n",
    "    test_csv,\n",
    "    images_root,\n",
    "    transforms=data_transforms['test'],\n",
    "    cache_dir=\"cache_val\"\n",
    ")"
   ]
  },
  {
   "cell_type": "code",
   "execution_count": 6,
   "id": "1fdd941c",
   "metadata": {
    "execution": {
     "iopub.execute_input": "2025-01-15T10:54:23.721230Z",
     "iopub.status.busy": "2025-01-15T10:54:23.720885Z",
     "iopub.status.idle": "2025-01-15T10:54:23.806940Z",
     "shell.execute_reply": "2025-01-15T10:54:23.805981Z"
    },
    "papermill": {
     "duration": 0.204007,
     "end_time": "2025-01-15T10:54:23.808269",
     "exception": false,
     "start_time": "2025-01-15T10:54:23.604262",
     "status": "completed"
    },
    "tags": []
   },
   "outputs": [
    {
     "name": "stdout",
     "output_type": "stream",
     "text": [
      "Image shapes:  torch.Size([1, 432, 512])\n"
     ]
    }
   ],
   "source": [
    "print('Image shapes: ', trainset[0][0].shape)"
   ]
  },
  {
   "cell_type": "code",
   "execution_count": 7,
   "id": "1a6caef5",
   "metadata": {
    "execution": {
     "iopub.execute_input": "2025-01-15T10:54:24.043534Z",
     "iopub.status.busy": "2025-01-15T10:54:24.043206Z",
     "iopub.status.idle": "2025-01-15T10:54:24.073295Z",
     "shell.execute_reply": "2025-01-15T10:54:24.072447Z"
    },
    "papermill": {
     "duration": 0.147055,
     "end_time": "2025-01-15T10:54:24.074636",
     "exception": false,
     "start_time": "2025-01-15T10:54:23.927581",
     "status": "completed"
    },
    "tags": []
   },
   "outputs": [
    {
     "data": {
      "image/jpeg": "[encoded data removed]",
      "image/png": "[encoded data removed]",
      "text/plain": [
       "<PIL.Image.Image image mode=L size=512x432>"
      ]
     },
     "execution_count": 7,
     "metadata": {},
     "output_type": "execute_result"
    }
   ],
   "source": [
    "idx = torch.randint(0, len(trainset), size = (1, 1))\n",
    "img = trainset.visualize(idx[0].item())\n",
    "img"
   ]
  },
  {
   "cell_type": "markdown",
   "id": "30830a76",
   "metadata": {
    "papermill": {
     "duration": 0.11523,
     "end_time": "2025-01-15T10:54:24.544269",
     "exception": false,
     "start_time": "2025-01-15T10:54:24.429039",
     "status": "completed"
    },
    "tags": []
   },
   "source": [
    "## Preparing Dataloaders"
   ]
  },
  {
   "cell_type": "code",
   "execution_count": 9,
   "id": "581e53f3",
   "metadata": {
    "execution": {
     "iopub.execute_input": "2025-01-15T10:54:24.777004Z",
     "iopub.status.busy": "2025-01-15T10:54:24.776680Z",
     "iopub.status.idle": "2025-01-15T10:54:24.782820Z",
     "shell.execute_reply": "2025-01-15T10:54:24.781929Z"
    },
    "papermill": {
     "duration": 0.124605,
     "end_time": "2025-01-15T10:54:24.784024",
     "exception": false,
     "start_time": "2025-01-15T10:54:24.659419",
     "status": "completed"
    },
    "tags": []
   },
   "outputs": [
    {
     "name": "stdout",
     "output_type": "stream",
     "text": [
      "Size of datasets: {'train': 28904, 'val': 3212}\n"
     ]
    }
   ],
   "source": [
    "trainloader = torch.utils.data.DataLoader(trainset, batch_size=batch_size, shuffle=True)\n",
    "\n",
    "\n",
    "\n",
    "                                     \n",
    "valloader = torch.utils.data.DataLoader(valset, batch_size=batch_size,\n",
    "                                         shuffle=False)\n",
    "\n",
    "\n",
    "\n",
    "\n",
    "dataset_size = [len(trainset), len(valset)]\n",
    "\n",
    "\n",
    "\n",
    "dataloaders= {\n",
    "    \"train\": trainloader,\n",
    "    \"val\": valloader\n",
    "}\n",
    "\n",
    "dataset_sizes = {\n",
    "    \"train\": dataset_size[0],\n",
    "    \"val\": dataset_size[1]\n",
    "}\n",
    "\n",
    "print('Size of datasets:', dataset_sizes)"
   ]
  },
  {
   "cell_type": "markdown",
   "id": "6f86d2b6",
   "metadata": {
    "papermill": {
     "duration": 0.115105,
     "end_time": "2025-01-15T10:57:46.993833",
     "exception": false,
     "start_time": "2025-01-15T10:57:46.878728",
     "status": "completed"
    },
    "tags": []
   },
   "source": [
    "## Model Architecture Defination\n",
    "I will be using eficcientNetv2 small for intial testing and training of the data and developing network."
   ]
  },
  {
   "cell_type": "code",
   "execution_count": 13,
   "id": "616aaab1",
   "metadata": {
    "execution": {
     "iopub.execute_input": "2025-01-15T10:57:47.975437Z",
     "iopub.status.busy": "2025-01-15T10:57:47.975107Z",
     "iopub.status.idle": "2025-01-15T10:57:47.983685Z",
     "shell.execute_reply": "2025-01-15T10:57:47.982831Z"
    },
    "papermill": {
     "duration": 0.125728,
     "end_time": "2025-01-15T10:57:47.985032",
     "exception": false,
     "start_time": "2025-01-15T10:57:47.859304",
     "status": "completed"
    },
    "tags": []
   },
   "outputs": [],
   "source": [
    "import torchvision\n",
    "import torch.nn as nn\n",
    "\n",
    "\n",
    "class Conv2dNormActivation(nn.Module):\n",
    "    def __init__(self, in_channels, out_channels):\n",
    "        super().__init__()\n",
    "        self.layer = nn.Sequential(\n",
    "            nn.Conv2d(\n",
    "                in_channels=in_channels,\n",
    "                out_channels=out_channels,\n",
    "                kernel_size=3,\n",
    "                stride=2,\n",
    "            ),\n",
    "            nn.BatchNorm2d(\n",
    "                out_channels,\n",
    "                eps=0.001,\n",
    "                momentum=0.1,\n",
    "                affine=True,\n",
    "                track_running_stats=True,\n",
    "            ),\n",
    "            nn.SiLU(inplace=True),\n",
    "        )\n",
    "\n",
    "    def forward(self, x):\n",
    "        return self.layer(x)\n",
    "\n",
    "\n",
    "class ImageRegressor(nn.Module):\n",
    "    def __init__(self):\n",
    "        super().__init__()\n",
    "\n",
    "        self.feature_extractor = self._init_feature_extractor()\n",
    "        self.avgpool = nn.AdaptiveAvgPool2d(output_size=1)\n",
    "        self.flatten = nn.Flatten()\n",
    "\n",
    "        self.regression_head = nn.Sequential(\n",
    "            nn.Dropout(0.45),\n",
    "            nn.Linear(1280, 256),\n",
    "            nn.ReLU(),\n",
    "            nn.Dropout(0.3),\n",
    "            nn.Linear(256, 1),\n",
    "        )\n",
    "\n",
    "    def forward(self, img):\n",
    "        features = self.feature_extractor(img)  # Output: [batch_size, 1280, H', W']\n",
    "        features = self.avgpool(features)  # Output: [batch_size, 1280, 1, 1]\n",
    "        features = self.flatten(features)  # Output: [batch_size, 1280]\n",
    "        reg = self.regression_head(features)\n",
    "        return reg\n",
    "\n",
    "    def _init_feature_extractor(self, in_channels=1):\n",
    "        base_network = torchvision.models.efficientnet_v2_s(weights=None)\n",
    "        feature_extractor = base_network.features\n",
    "        \n",
    "        feature_extractor[0][0] = nn.Conv2d(\n",
    "            1, 24, kernel_size=(3, 3), stride=(2, 2), padding=(1, 1), bias=False\n",
    "        )\n",
    "        \n",
    "        feature_extractor[0] = nn.Sequential(\n",
    "            feature_extractor[0],\n",
    "            Conv2dNormActivation(24, 24),\n",
    "        )\n",
    "\n",
    "        feature_extractor = nn.Sequential(\n",
    "            feature_extractor[:2],\n",
    "            feature_extractor[2][:2],\n",
    "            feature_extractor[3][:2],\n",
    "            feature_extractor[4][:3],\n",
    "            feature_extractor[5][:2],\n",
    "            feature_extractor[6][:4],\n",
    "            feature_extractor[-1],\n",
    "        )\n",
    "        # ref:https://www.researchgate.net/figure/Efficientnet-v2-s-Architecture-a-represents-the-schematic-of-the-model-from-image-input_fig2_373782480\n",
    "        # There are total 8 blocks, 2 conv3dNorm(at start and at end) and 3 fused mbconv , 3 mb conv\n",
    "        return feature_extractor\n"
   ]
  },
  {
   "cell_type": "code",
   "execution_count": 14,
   "id": "263b13de",
   "metadata": {
    "execution": {
     "iopub.execute_input": "2025-01-15T10:57:48.217719Z",
     "iopub.status.busy": "2025-01-15T10:57:48.217374Z",
     "iopub.status.idle": "2025-01-15T10:57:48.707049Z",
     "shell.execute_reply": "2025-01-15T10:57:48.706039Z"
    },
    "papermill": {
     "duration": 0.607887,
     "end_time": "2025-01-15T10:57:48.708704",
     "exception": false,
     "start_time": "2025-01-15T10:57:48.100817",
     "status": "completed"
    },
    "tags": []
   },
   "outputs": [
    {
     "data": {
      "text/plain": [
       "torch.Size([1, 1])"
      ]
     },
     "execution_count": 14,
     "metadata": {},
     "output_type": "execute_result"
    }
   ],
   "source": [
    "model = ImageRegressor()\n",
    "\n",
    "#test\n",
    "inp = torch.randn((1, 1, 270, 320))\n",
    "\n",
    "out = model(inp)\n",
    "out.shape\n",
    "\n"
   ]
  },
  {
   "cell_type": "markdown",
   "id": "083ea327",
   "metadata": {
    "papermill": {
     "duration": 0.114842,
     "end_time": "2025-01-15T10:57:48.940855",
     "exception": false,
     "start_time": "2025-01-15T10:57:48.826013",
     "status": "completed"
    },
    "tags": []
   },
   "source": [
    "## Training the Model"
   ]
  },
  {
   "cell_type": "markdown",
   "id": "941acce5",
   "metadata": {
    "papermill": {
     "duration": 0.116403,
     "end_time": "2025-01-15T10:57:49.172194",
     "exception": false,
     "start_time": "2025-01-15T10:57:49.055791",
     "status": "completed"
    },
    "tags": []
   },
   "source": [
    "### Helper Functions for training and Evaluation"
   ]
  },
  {
   "cell_type": "code",
   "execution_count": 15,
   "id": "155224c2",
   "metadata": {
    "execution": {
     "iopub.execute_input": "2025-01-15T10:57:49.405445Z",
     "iopub.status.busy": "2025-01-15T10:57:49.405137Z",
     "iopub.status.idle": "2025-01-15T10:57:49.408738Z",
     "shell.execute_reply": "2025-01-15T10:57:49.408009Z"
    },
    "papermill": {
     "duration": 0.122269,
     "end_time": "2025-01-15T10:57:49.409880",
     "exception": false,
     "start_time": "2025-01-15T10:57:49.287611",
     "status": "completed"
    },
    "tags": []
   },
   "outputs": [],
   "source": [
    "os.makedirs('saved_models', exist_ok = True)"
   ]
  },
  {
   "cell_type": "code",
   "execution_count": 16,
   "id": "a90962ac",
   "metadata": {
    "execution": {
     "iopub.execute_input": "2025-01-15T10:57:49.646447Z",
     "iopub.status.busy": "2025-01-15T10:57:49.646072Z",
     "iopub.status.idle": "2025-01-15T10:57:49.658607Z",
     "shell.execute_reply": "2025-01-15T10:57:49.657777Z"
    },
    "papermill": {
     "duration": 0.131784,
     "end_time": "2025-01-15T10:57:49.659899",
     "exception": false,
     "start_time": "2025-01-15T10:57:49.528115",
     "status": "completed"
    },
    "tags": []
   },
   "outputs": [],
   "source": [
    "import torch\n",
    "import torch.nn as nn\n",
    "import time\n",
    "import os\n",
    "import shutil\n",
    "from tqdm import tqdm\n",
    "from typing import Dict, Any, Optional\n",
    "\n",
    "def train_model(\n",
    "    model: nn.Module,\n",
    "    criterion: nn.Module,\n",
    "    optimizer: torch.optim.Optimizer,\n",
    "    scheduler: torch.optim.lr_scheduler._LRScheduler,\n",
    "    dataloaders: Dict[str, torch.utils.data.DataLoader],\n",
    "    dataset_sizes: Dict[str, int],\n",
    "    device: torch.device,\n",
    "    num_epochs: int = 25,\n",
    "    metric: nn.Module = nn.L1Loss(reduction='mean'),\n",
    "    patience: int = 12,\n",
    "    min_delta: float = 1e-4\n",
    ") -> tuple[nn.Module, Dict[str, Any]]:\n",
    "    \"\"\"\n",
    "    Train a PyTorch model with forward and backward propagation.\n",
    "    \n",
    "    Args:\n",
    "        model: PyTorch model to train\n",
    "        criterion: Loss function\n",
    "        optimizer: Optimization algorithm\n",
    "        scheduler: Learning rate scheduler\n",
    "        dataloaders: Dictionary containing 'train' and 'val' dataloaders\n",
    "        dataset_sizes: Dictionary containing size of 'train' and 'val' datasets\n",
    "        device: Device to train on (cuda/cpu)\n",
    "        num_epochs: Maximum number of epochs to train\n",
    "        metric: Metric to track for model performance (default: MAE)\n",
    "        patience: Number of epochs to wait before early stopping\n",
    "        min_delta: Minimum change in monitored value to qualify as an improvement\n",
    "        \n",
    "    Returns:\n",
    "        tuple: (best_model, training_history)\n",
    "    \"\"\"\n",
    "    since = time.time()\n",
    "    \n",
    "    # Initialize epoch data storage\n",
    "    epoch_data = {\n",
    "        'epoch': [],\n",
    "        'train': {'loss': [], 'MAE': []},\n",
    "        'val': {'loss': [], 'MAE': []}\n",
    "    }\n",
    "    \n",
    "    # Create temporary directory for model checkpoints\n",
    "    tempdir = './temp'\n",
    "    os.makedirs(tempdir, exist_ok=True)\n",
    "    best_model_params_path = os.path.join(tempdir, 'best_model_params.pt')\n",
    "    \n",
    "    # Save initial model state\n",
    "    torch.save(model.state_dict(), best_model_params_path)\n",
    "    \n",
    "    best_mae = float('inf')\n",
    "    no_improve_epochs = 0\n",
    "    \n",
    "    try:\n",
    "        for epoch in range(num_epochs):\n",
    "            print(f'Epoch {epoch+1}/{num_epochs}')\n",
    "            print('-' * 10)\n",
    "            epoch_data['epoch'].append(epoch+1)\n",
    "            \n",
    "            # Training and validation phase\n",
    "            for phase in ['train', 'val']:\n",
    "                if phase == 'train':\n",
    "                    model.train()\n",
    "                else:\n",
    "                    model.eval()\n",
    "                \n",
    "                running_loss = 0.0\n",
    "                running_mae = 0.0\n",
    "                \n",
    "                # Iterate over data\n",
    "                for inputs, targets in tqdm(dataloaders[phase], desc=f'{phase} phase'):\n",
    "                    inputs = inputs.to(device)\n",
    "                    targets = targets.to(device)\n",
    "                    targets = targets.view(-1, 1)\n",
    "                    \n",
    "                    # Zero the parameter gradients\n",
    "                    optimizer.zero_grad()\n",
    "                    \n",
    "                    # Forward pass\n",
    "                    with torch.set_grad_enabled(phase == 'train'):\n",
    "                        outputs = model(inputs)\n",
    "                        loss = criterion(outputs, targets)\n",
    "                        \n",
    "                        # Backward pass + optimize only if in training phase\n",
    "                        if phase == 'train':\n",
    "                            loss.backward()\n",
    "                            optimizer.step()\n",
    "                    \n",
    "                    # Statistics\n",
    "                    batch_size = inputs.size(0)\n",
    "                    running_loss += loss.item() * batch_size\n",
    "                    running_mae += metric(outputs, targets).item() * batch_size\n",
    "                \n",
    "                if phase == 'train':\n",
    "                    scheduler.step()\n",
    "                \n",
    "                # Calculate epoch metrics\n",
    "                epoch_loss = running_loss / dataset_sizes[phase]\n",
    "                epoch_mae = running_mae / dataset_sizes[phase]\n",
    "                \n",
    "                # Store metrics\n",
    "                epoch_data[phase]['loss'].append(epoch_loss)\n",
    "                epoch_data[phase]['MAE'].append(epoch_mae)\n",
    "                \n",
    "                print(f'{phase} Loss: {epoch_loss:.4f} MAE: {epoch_mae:.4f}')\n",
    "                \n",
    "                # Save best model\n",
    "                if phase == 'val':\n",
    "                    if epoch_mae < best_mae - min_delta:\n",
    "                        best_mae = epoch_mae\n",
    "                        torch.save(model.state_dict(), best_model_params_path)\n",
    "                        no_improve_epochs = 0\n",
    "                    else:\n",
    "                        no_improve_epochs += 1\n",
    "\n",
    "                    if  epoch%10 == 0:\n",
    "                        torch.save(model.state_dict(), f'saved_models/checkpoint_mae_{epoch_mae:.4f}_epoch_{epoch}.pth')\n",
    "                        \n",
    "            \n",
    "            print()\n",
    "            \n",
    "            # Early stopping check\n",
    "            if no_improve_epochs >= patience:\n",
    "                print(f'Early stopping triggered after {epoch + 1} epochs')\n",
    "                break\n",
    "\n",
    "\n",
    "                \n",
    "                \n",
    "    except KeyboardInterrupt:\n",
    "        print('Training interrupted by user')\n",
    "    \n",
    "    finally:\n",
    "        time_elapsed = time.time() - since\n",
    "        print(f'Training complete in {time_elapsed // 60:.0f}m {time_elapsed % 60:.0f}s')\n",
    "        print(f'Best val MAE: {best_mae:4f}')\n",
    "        \n",
    "        # Load best model\n",
    "        model.load_state_dict(torch.load(best_model_params_path, weights_only = True))\n",
    "        \n",
    "        # Clean up temporary directory\n",
    "        shutil.rmtree(tempdir)\n",
    "    \n",
    "    return model, best_mae, epoch,  epoch_data, "
   ]
  },
  {
   "cell_type": "code",
   "execution_count": 17,
   "id": "5876cf84",
   "metadata": {
    "execution": {
     "iopub.execute_input": "2025-01-15T10:57:49.938817Z",
     "iopub.status.busy": "2025-01-15T10:57:49.938525Z",
     "iopub.status.idle": "2025-01-15T10:57:49.943675Z",
     "shell.execute_reply": "2025-01-15T10:57:49.942978Z"
    },
    "papermill": {
     "duration": 0.124208,
     "end_time": "2025-01-15T10:57:49.944781",
     "exception": false,
     "start_time": "2025-01-15T10:57:49.820573",
     "status": "completed"
    },
    "tags": []
   },
   "outputs": [],
   "source": [
    "def evaluate_model(model, criterion , dataloader):\n",
    "    model.eval()\n",
    "    metric = nn.L1Loss()\n",
    "    running_loss = 0.0\n",
    "    running_mae = 0\n",
    "\n",
    "    for inputs, targets in tqdm(dataloader):\n",
    "        inputs = inputs.to(device)\n",
    "        targets = targets.to(device)\n",
    "        targets = targets.view(-1, 1) \n",
    "        with torch.no_grad():\n",
    "            outputs = model(inputs)\n",
    "            loss = criterion(outputs, targets)\n",
    "\n",
    "            running_loss += loss.item() * inputs.size(0)\n",
    "            running_mae += metric(outputs, targets).item()*inputs.size(0)\n",
    "\n",
    "    eval_loss = running_loss / len(dataloader.dataset)\n",
    "    eval_mae = running_mae / len(dataloader.dataset)\n",
    "\n",
    "    print(f'Evaluation Loss: {eval_loss:.4f} Evaluation MAE: {eval_mae:.4f}')\n",
    "\n",
    "    return eval_loss, eval_mae"
   ]
  },
  {
   "cell_type": "code",
   "execution_count": 18,
   "id": "bcca5663",
   "metadata": {
    "execution": {
     "iopub.execute_input": "2025-01-15T10:57:50.175056Z",
     "iopub.status.busy": "2025-01-15T10:57:50.174773Z",
     "iopub.status.idle": "2025-01-15T10:57:50.179152Z",
     "shell.execute_reply": "2025-01-15T10:57:50.178482Z"
    },
    "papermill": {
     "duration": 0.121245,
     "end_time": "2025-01-15T10:57:50.180376",
     "exception": false,
     "start_time": "2025-01-15T10:57:50.059131",
     "status": "completed"
    },
    "tags": []
   },
   "outputs": [],
   "source": [
    "class CustomLoss(nn.Module):\n",
    "    def __init__(self, ratio = 0.5):\n",
    "        super().__init__()\n",
    "        self.ratio = ratio\n",
    "        self.mse = nn.MSELoss()\n",
    "        self.mae = nn.L1Loss()\n",
    "\n",
    "    def forward(self, pred, targets):\n",
    "        l1 = self.mse(pred, targets)\n",
    "        l2 = self.mae(pred, targets)\n",
    "        return self.ratio*l1 + (1-self.ratio)*l2"
   ]
  },
  {
   "cell_type": "markdown",
   "id": "4d88c73e",
   "metadata": {
    "papermill": {
     "duration": 0.114865,
     "end_time": "2025-01-15T10:57:50.410223",
     "exception": false,
     "start_time": "2025-01-15T10:57:50.295358",
     "status": "completed"
    },
    "tags": []
   },
   "source": [
    "### Training the model "
   ]
  },
  {
   "cell_type": "code",
   "execution_count": 19,
   "id": "f7ff1289",
   "metadata": {
    "execution": {
     "iopub.execute_input": "2025-01-15T10:57:50.639819Z",
     "iopub.status.busy": "2025-01-15T10:57:50.639527Z",
     "iopub.status.idle": "2025-01-15T14:47:15.758988Z",
     "shell.execute_reply": "2025-01-15T14:47:15.758159Z"
    },
    "papermill": {
     "duration": 13765.236502,
     "end_time": "2025-01-15T14:47:15.760659",
     "exception": false,
     "start_time": "2025-01-15T10:57:50.524157",
     "status": "completed"
    },
    "tags": []
   },
   "outputs": [
    {
     "name": "stderr",
     "output_type": "stream",
     "text": [
      "<ipython-input-19-322ad63e0cc4>:6: FutureWarning: You are using `torch.load` with `weights_only=False` (the current default value), which uses the default pickle module implicitly. It is possible to construct malicious pickle data which will execute arbitrary code during unpickling (See https://github.com/pytorch/pytorch/blob/main/SECURITY.md#untrusted-models for more details). In a future release, the default value for `weights_only` will be flipped to `True`. This limits the functions that could be executed during unpickling. Arbitrary objects will no longer be allowed to be loaded via this mode unless they are explicitly allowlisted by the user via `torch.serialization.add_safe_globals`. We recommend you start setting `weights_only=True` for any use case where you don't have full control of the loaded file. Please open an issue on GitHub for any issues related to this experimental feature.\n",
      "  model.load_state_dict(torch.load('/kaggle/input/imagereg/pytorch/default/1/image_regressor_wts_mae_val_0.29_test_0.24_epoch_83.pth'))\n"
     ]
    },
    {
     "name": "stdout",
     "output_type": "stream",
     "text": [
      "Epoch 1/50\n",
      "----------\n"
     ]
    },
    {
     "name": "stderr",
     "output_type": "stream",
     "text": [
      "train phase: 100%|██████████| 452/452 [04:30<00:00,  1.67it/s]\n"
     ]
    },
    {
     "name": "stdout",
     "output_type": "stream",
     "text": [
      "train Loss: 0.8088 MAE: 0.6366\n"
     ]
    },
    {
     "name": "stderr",
     "output_type": "stream",
     "text": [
      "val phase: 100%|██████████| 51/51 [00:06<00:00,  7.52it/s]\n"
     ]
    },
    {
     "name": "stdout",
     "output_type": "stream",
     "text": [
      "val Loss: 0.3245 MAE: 0.3992\n",
      "\n",
      "Epoch 2/50\n",
      "----------\n"
     ]
    },
    {
     "name": "stderr",
     "output_type": "stream",
     "text": [
      "train phase: 100%|██████████| 452/452 [04:29<00:00,  1.68it/s]\n"
     ]
    },
    {
     "name": "stdout",
     "output_type": "stream",
     "text": [
      "train Loss: 0.3683 MAE: 0.4332\n"
     ]
    },
    {
     "name": "stderr",
     "output_type": "stream",
     "text": [
      "val phase: 100%|██████████| 51/51 [00:06<00:00,  7.71it/s]\n"
     ]
    },
    {
     "name": "stdout",
     "output_type": "stream",
     "text": [
      "val Loss: 0.2961 MAE: 0.3780\n",
      "\n",
      "Epoch 3/50\n",
      "----------\n"
     ]
    },
    {
     "name": "stderr",
     "output_type": "stream",
     "text": [
      "train phase: 100%|██████████| 452/452 [04:28<00:00,  1.68it/s]\n"
     ]
    },
    {
     "name": "stdout",
     "output_type": "stream",
     "text": [
      "train Loss: 0.3411 MAE: 0.4118\n"
     ]
    },
    {
     "name": "stderr",
     "output_type": "stream",
     "text": [
      "val phase: 100%|██████████| 51/51 [00:06<00:00,  8.02it/s]\n"
     ]
    },
    {
     "name": "stdout",
     "output_type": "stream",
     "text": [
      "val Loss: 0.2811 MAE: 0.3610\n",
      "\n",
      "Epoch 4/50\n",
      "----------\n"
     ]
    },
    {
     "name": "stderr",
     "output_type": "stream",
     "text": [
      "train phase: 100%|██████████| 452/452 [04:28<00:00,  1.69it/s]\n"
     ]
    },
    {
     "name": "stdout",
     "output_type": "stream",
     "text": [
      "train Loss: 0.3209 MAE: 0.3956\n"
     ]
    },
    {
     "name": "stderr",
     "output_type": "stream",
     "text": [
      "val phase: 100%|██████████| 51/51 [00:06<00:00,  7.94it/s]\n"
     ]
    },
    {
     "name": "stdout",
     "output_type": "stream",
     "text": [
      "val Loss: 0.2688 MAE: 0.3511\n",
      "\n",
      "Epoch 5/50\n",
      "----------\n"
     ]
    },
    {
     "name": "stderr",
     "output_type": "stream",
     "text": [
      "train phase: 100%|██████████| 452/452 [04:28<00:00,  1.69it/s]\n"
     ]
    },
    {
     "name": "stdout",
     "output_type": "stream",
     "text": [
      "train Loss: 0.3135 MAE: 0.3902\n"
     ]
    },
    {
     "name": "stderr",
     "output_type": "stream",
     "text": [
      "val phase: 100%|██████████| 51/51 [00:06<00:00,  8.01it/s]\n"
     ]
    },
    {
     "name": "stdout",
     "output_type": "stream",
     "text": [
      "val Loss: 0.2532 MAE: 0.3363\n",
      "\n",
      "Epoch 6/50\n",
      "----------\n"
     ]
    },
    {
     "name": "stderr",
     "output_type": "stream",
     "text": [
      "train phase: 100%|██████████| 452/452 [04:27<00:00,  1.69it/s]\n"
     ]
    },
    {
     "name": "stdout",
     "output_type": "stream",
     "text": [
      "train Loss: 0.3083 MAE: 0.3858\n"
     ]
    },
    {
     "name": "stderr",
     "output_type": "stream",
     "text": [
      "val phase: 100%|██████████| 51/51 [00:06<00:00,  7.94it/s]\n"
     ]
    },
    {
     "name": "stdout",
     "output_type": "stream",
     "text": [
      "val Loss: 0.2650 MAE: 0.3488\n",
      "\n",
      "Epoch 7/50\n",
      "----------\n"
     ]
    },
    {
     "name": "stderr",
     "output_type": "stream",
     "text": [
      "train phase: 100%|██████████| 452/452 [04:27<00:00,  1.69it/s]\n"
     ]
    },
    {
     "name": "stdout",
     "output_type": "stream",
     "text": [
      "train Loss: 0.2982 MAE: 0.3754\n"
     ]
    },
    {
     "name": "stderr",
     "output_type": "stream",
     "text": [
      "val phase: 100%|██████████| 51/51 [00:06<00:00,  8.04it/s]\n"
     ]
    },
    {
     "name": "stdout",
     "output_type": "stream",
     "text": [
      "val Loss: 0.2394 MAE: 0.3249\n",
      "\n",
      "Epoch 8/50\n",
      "----------\n"
     ]
    },
    {
     "name": "stderr",
     "output_type": "stream",
     "text": [
      "train phase: 100%|██████████| 452/452 [04:28<00:00,  1.69it/s]\n"
     ]
    },
    {
     "name": "stdout",
     "output_type": "stream",
     "text": [
      "train Loss: 0.2902 MAE: 0.3693\n"
     ]
    },
    {
     "name": "stderr",
     "output_type": "stream",
     "text": [
      "val phase: 100%|██████████| 51/51 [00:06<00:00,  8.07it/s]\n"
     ]
    },
    {
     "name": "stdout",
     "output_type": "stream",
     "text": [
      "val Loss: 0.2401 MAE: 0.3226\n",
      "\n",
      "Epoch 9/50\n",
      "----------\n"
     ]
    },
    {
     "name": "stderr",
     "output_type": "stream",
     "text": [
      "train phase: 100%|██████████| 452/452 [04:29<00:00,  1.68it/s]\n"
     ]
    },
    {
     "name": "stdout",
     "output_type": "stream",
     "text": [
      "train Loss: 0.2881 MAE: 0.3674\n"
     ]
    },
    {
     "name": "stderr",
     "output_type": "stream",
     "text": [
      "val phase: 100%|██████████| 51/51 [00:06<00:00,  7.84it/s]\n"
     ]
    },
    {
     "name": "stdout",
     "output_type": "stream",
     "text": [
      "val Loss: 0.2316 MAE: 0.3164\n",
      "\n",
      "Epoch 10/50\n",
      "----------\n"
     ]
    },
    {
     "name": "stderr",
     "output_type": "stream",
     "text": [
      "train phase: 100%|██████████| 452/452 [04:29<00:00,  1.68it/s]\n"
     ]
    },
    {
     "name": "stdout",
     "output_type": "stream",
     "text": [
      "train Loss: 0.2836 MAE: 0.3635\n"
     ]
    },
    {
     "name": "stderr",
     "output_type": "stream",
     "text": [
      "val phase: 100%|██████████| 51/51 [00:06<00:00,  7.98it/s]\n"
     ]
    },
    {
     "name": "stdout",
     "output_type": "stream",
     "text": [
      "val Loss: 0.2346 MAE: 0.3182\n",
      "\n",
      "Epoch 11/50\n",
      "----------\n"
     ]
    },
    {
     "name": "stderr",
     "output_type": "stream",
     "text": [
      "train phase: 100%|██████████| 452/452 [04:30<00:00,  1.67it/s]\n"
     ]
    },
    {
     "name": "stdout",
     "output_type": "stream",
     "text": [
      "train Loss: 0.2811 MAE: 0.3600\n"
     ]
    },
    {
     "name": "stderr",
     "output_type": "stream",
     "text": [
      "val phase: 100%|██████████| 51/51 [00:06<00:00,  8.01it/s]\n"
     ]
    },
    {
     "name": "stdout",
     "output_type": "stream",
     "text": [
      "val Loss: 0.2292 MAE: 0.3151\n",
      "\n",
      "Epoch 12/50\n",
      "----------\n"
     ]
    },
    {
     "name": "stderr",
     "output_type": "stream",
     "text": [
      "train phase: 100%|██████████| 452/452 [04:29<00:00,  1.68it/s]\n"
     ]
    },
    {
     "name": "stdout",
     "output_type": "stream",
     "text": [
      "train Loss: 0.2756 MAE: 0.3561\n"
     ]
    },
    {
     "name": "stderr",
     "output_type": "stream",
     "text": [
      "val phase: 100%|██████████| 51/51 [00:06<00:00,  7.83it/s]\n"
     ]
    },
    {
     "name": "stdout",
     "output_type": "stream",
     "text": [
      "val Loss: 0.2385 MAE: 0.3229\n",
      "\n",
      "Epoch 13/50\n",
      "----------\n"
     ]
    },
    {
     "name": "stderr",
     "output_type": "stream",
     "text": [
      "train phase: 100%|██████████| 452/452 [04:27<00:00,  1.69it/s]\n"
     ]
    },
    {
     "name": "stdout",
     "output_type": "stream",
     "text": [
      "train Loss: 0.2749 MAE: 0.3551\n"
     ]
    },
    {
     "name": "stderr",
     "output_type": "stream",
     "text": [
      "val phase: 100%|██████████| 51/51 [00:06<00:00,  8.07it/s]\n"
     ]
    },
    {
     "name": "stdout",
     "output_type": "stream",
     "text": [
      "val Loss: 0.2239 MAE: 0.3086\n",
      "\n",
      "Epoch 14/50\n",
      "----------\n"
     ]
    },
    {
     "name": "stderr",
     "output_type": "stream",
     "text": [
      "train phase: 100%|██████████| 452/452 [04:28<00:00,  1.69it/s]\n"
     ]
    },
    {
     "name": "stdout",
     "output_type": "stream",
     "text": [
      "train Loss: 0.2725 MAE: 0.3528\n"
     ]
    },
    {
     "name": "stderr",
     "output_type": "stream",
     "text": [
      "val phase: 100%|██████████| 51/51 [00:06<00:00,  8.06it/s]\n"
     ]
    },
    {
     "name": "stdout",
     "output_type": "stream",
     "text": [
      "val Loss: 0.2166 MAE: 0.3003\n",
      "\n",
      "Epoch 15/50\n",
      "----------\n"
     ]
    },
    {
     "name": "stderr",
     "output_type": "stream",
     "text": [
      "train phase: 100%|██████████| 452/452 [04:28<00:00,  1.68it/s]\n"
     ]
    },
    {
     "name": "stdout",
     "output_type": "stream",
     "text": [
      "train Loss: 0.2737 MAE: 0.3538\n"
     ]
    },
    {
     "name": "stderr",
     "output_type": "stream",
     "text": [
      "val phase: 100%|██████████| 51/51 [00:06<00:00,  7.91it/s]\n"
     ]
    },
    {
     "name": "stdout",
     "output_type": "stream",
     "text": [
      "val Loss: 0.2263 MAE: 0.3090\n",
      "\n",
      "Epoch 16/50\n",
      "----------\n"
     ]
    },
    {
     "name": "stderr",
     "output_type": "stream",
     "text": [
      "train phase: 100%|██████████| 452/452 [04:27<00:00,  1.69it/s]\n"
     ]
    },
    {
     "name": "stdout",
     "output_type": "stream",
     "text": [
      "train Loss: 0.2693 MAE: 0.3491\n"
     ]
    },
    {
     "name": "stderr",
     "output_type": "stream",
     "text": [
      "val phase: 100%|██████████| 51/51 [00:06<00:00,  7.95it/s]\n"
     ]
    },
    {
     "name": "stdout",
     "output_type": "stream",
     "text": [
      "val Loss: 0.2186 MAE: 0.3001\n",
      "\n",
      "Epoch 17/50\n",
      "----------\n"
     ]
    },
    {
     "name": "stderr",
     "output_type": "stream",
     "text": [
      "train phase: 100%|██████████| 452/452 [04:28<00:00,  1.68it/s]\n"
     ]
    },
    {
     "name": "stdout",
     "output_type": "stream",
     "text": [
      "train Loss: 0.2624 MAE: 0.3429\n"
     ]
    },
    {
     "name": "stderr",
     "output_type": "stream",
     "text": [
      "val phase: 100%|██████████| 51/51 [00:06<00:00,  7.90it/s]\n"
     ]
    },
    {
     "name": "stdout",
     "output_type": "stream",
     "text": [
      "val Loss: 0.2145 MAE: 0.2970\n",
      "\n",
      "Epoch 18/50\n",
      "----------\n"
     ]
    },
    {
     "name": "stderr",
     "output_type": "stream",
     "text": [
      "train phase: 100%|██████████| 452/452 [04:28<00:00,  1.68it/s]\n"
     ]
    },
    {
     "name": "stdout",
     "output_type": "stream",
     "text": [
      "train Loss: 0.2652 MAE: 0.3455\n"
     ]
    },
    {
     "name": "stderr",
     "output_type": "stream",
     "text": [
      "val phase: 100%|██████████| 51/51 [00:06<00:00,  7.94it/s]\n"
     ]
    },
    {
     "name": "stdout",
     "output_type": "stream",
     "text": [
      "val Loss: 0.2147 MAE: 0.2948\n",
      "\n",
      "Epoch 19/50\n",
      "----------\n"
     ]
    },
    {
     "name": "stderr",
     "output_type": "stream",
     "text": [
      "train phase: 100%|██████████| 452/452 [04:28<00:00,  1.68it/s]\n"
     ]
    },
    {
     "name": "stdout",
     "output_type": "stream",
     "text": [
      "train Loss: 0.2647 MAE: 0.3446\n"
     ]
    },
    {
     "name": "stderr",
     "output_type": "stream",
     "text": [
      "val phase: 100%|██████████| 51/51 [00:06<00:00,  8.07it/s]\n"
     ]
    },
    {
     "name": "stdout",
     "output_type": "stream",
     "text": [
      "val Loss: 0.2116 MAE: 0.2943\n",
      "\n",
      "Epoch 20/50\n",
      "----------\n"
     ]
    },
    {
     "name": "stderr",
     "output_type": "stream",
     "text": [
      "train phase: 100%|██████████| 452/452 [04:28<00:00,  1.69it/s]\n"
     ]
    },
    {
     "name": "stdout",
     "output_type": "stream",
     "text": [
      "train Loss: 0.2596 MAE: 0.3405\n"
     ]
    },
    {
     "name": "stderr",
     "output_type": "stream",
     "text": [
      "val phase: 100%|██████████| 51/51 [00:06<00:00,  7.96it/s]\n"
     ]
    },
    {
     "name": "stdout",
     "output_type": "stream",
     "text": [
      "val Loss: 0.2186 MAE: 0.3000\n",
      "\n",
      "Epoch 21/50\n",
      "----------\n"
     ]
    },
    {
     "name": "stderr",
     "output_type": "stream",
     "text": [
      "train phase: 100%|██████████| 452/452 [04:27<00:00,  1.69it/s]\n"
     ]
    },
    {
     "name": "stdout",
     "output_type": "stream",
     "text": [
      "train Loss: 0.2598 MAE: 0.3398\n"
     ]
    },
    {
     "name": "stderr",
     "output_type": "stream",
     "text": [
      "val phase: 100%|██████████| 51/51 [00:06<00:00,  7.99it/s]\n"
     ]
    },
    {
     "name": "stdout",
     "output_type": "stream",
     "text": [
      "val Loss: 0.2113 MAE: 0.2956\n",
      "\n",
      "Epoch 22/50\n",
      "----------\n"
     ]
    },
    {
     "name": "stderr",
     "output_type": "stream",
     "text": [
      "train phase: 100%|██████████| 452/452 [04:27<00:00,  1.69it/s]\n"
     ]
    },
    {
     "name": "stdout",
     "output_type": "stream",
     "text": [
      "train Loss: 0.2555 MAE: 0.3364\n"
     ]
    },
    {
     "name": "stderr",
     "output_type": "stream",
     "text": [
      "val phase: 100%|██████████| 51/51 [00:06<00:00,  8.04it/s]\n"
     ]
    },
    {
     "name": "stdout",
     "output_type": "stream",
     "text": [
      "val Loss: 0.2035 MAE: 0.2867\n",
      "\n",
      "Epoch 23/50\n",
      "----------\n"
     ]
    },
    {
     "name": "stderr",
     "output_type": "stream",
     "text": [
      "train phase: 100%|██████████| 452/452 [04:28<00:00,  1.68it/s]\n"
     ]
    },
    {
     "name": "stdout",
     "output_type": "stream",
     "text": [
      "train Loss: 0.2575 MAE: 0.3381\n"
     ]
    },
    {
     "name": "stderr",
     "output_type": "stream",
     "text": [
      "val phase: 100%|██████████| 51/51 [00:06<00:00,  7.72it/s]\n"
     ]
    },
    {
     "name": "stdout",
     "output_type": "stream",
     "text": [
      "val Loss: 0.1993 MAE: 0.2808\n",
      "\n",
      "Epoch 24/50\n",
      "----------\n"
     ]
    },
    {
     "name": "stderr",
     "output_type": "stream",
     "text": [
      "train phase: 100%|██████████| 452/452 [04:28<00:00,  1.68it/s]\n"
     ]
    },
    {
     "name": "stdout",
     "output_type": "stream",
     "text": [
      "train Loss: 0.2543 MAE: 0.3345\n"
     ]
    },
    {
     "name": "stderr",
     "output_type": "stream",
     "text": [
      "val phase: 100%|██████████| 51/51 [00:06<00:00,  7.93it/s]\n"
     ]
    },
    {
     "name": "stdout",
     "output_type": "stream",
     "text": [
      "val Loss: 0.2228 MAE: 0.3040\n",
      "\n",
      "Epoch 25/50\n",
      "----------\n"
     ]
    },
    {
     "name": "stderr",
     "output_type": "stream",
     "text": [
      "train phase: 100%|██████████| 452/452 [04:28<00:00,  1.69it/s]\n"
     ]
    },
    {
     "name": "stdout",
     "output_type": "stream",
     "text": [
      "train Loss: 0.2526 MAE: 0.3332\n"
     ]
    },
    {
     "name": "stderr",
     "output_type": "stream",
     "text": [
      "val phase: 100%|██████████| 51/51 [00:06<00:00,  8.03it/s]\n"
     ]
    },
    {
     "name": "stdout",
     "output_type": "stream",
     "text": [
      "val Loss: 0.2052 MAE: 0.2883\n",
      "\n",
      "Epoch 26/50\n",
      "----------\n"
     ]
    },
    {
     "name": "stderr",
     "output_type": "stream",
     "text": [
      "train phase: 100%|██████████| 452/452 [04:28<00:00,  1.68it/s]\n"
     ]
    },
    {
     "name": "stdout",
     "output_type": "stream",
     "text": [
      "train Loss: 0.2515 MAE: 0.3319\n"
     ]
    },
    {
     "name": "stderr",
     "output_type": "stream",
     "text": [
      "val phase: 100%|██████████| 51/51 [00:06<00:00,  7.82it/s]\n"
     ]
    },
    {
     "name": "stdout",
     "output_type": "stream",
     "text": [
      "val Loss: 0.2000 MAE: 0.2823\n",
      "\n",
      "Epoch 27/50\n",
      "----------\n"
     ]
    },
    {
     "name": "stderr",
     "output_type": "stream",
     "text": [
      "train phase: 100%|██████████| 452/452 [04:29<00:00,  1.68it/s]\n"
     ]
    },
    {
     "name": "stdout",
     "output_type": "stream",
     "text": [
      "train Loss: 0.2495 MAE: 0.3298\n"
     ]
    },
    {
     "name": "stderr",
     "output_type": "stream",
     "text": [
      "val phase: 100%|██████████| 51/51 [00:06<00:00,  8.02it/s]\n"
     ]
    },
    {
     "name": "stdout",
     "output_type": "stream",
     "text": [
      "val Loss: 0.1897 MAE: 0.2706\n",
      "\n",
      "Epoch 28/50\n",
      "----------\n"
     ]
    },
    {
     "name": "stderr",
     "output_type": "stream",
     "text": [
      "train phase: 100%|██████████| 452/452 [04:28<00:00,  1.68it/s]\n"
     ]
    },
    {
     "name": "stdout",
     "output_type": "stream",
     "text": [
      "train Loss: 0.2470 MAE: 0.3281\n"
     ]
    },
    {
     "name": "stderr",
     "output_type": "stream",
     "text": [
      "val phase: 100%|██████████| 51/51 [00:06<00:00,  8.00it/s]\n"
     ]
    },
    {
     "name": "stdout",
     "output_type": "stream",
     "text": [
      "val Loss: 0.2024 MAE: 0.2845\n",
      "\n",
      "Epoch 29/50\n",
      "----------\n"
     ]
    },
    {
     "name": "stderr",
     "output_type": "stream",
     "text": [
      "train phase: 100%|██████████| 452/452 [04:28<00:00,  1.68it/s]\n"
     ]
    },
    {
     "name": "stdout",
     "output_type": "stream",
     "text": [
      "train Loss: 0.2471 MAE: 0.3274\n"
     ]
    },
    {
     "name": "stderr",
     "output_type": "stream",
     "text": [
      "val phase: 100%|██████████| 51/51 [00:06<00:00,  7.87it/s]\n"
     ]
    },
    {
     "name": "stdout",
     "output_type": "stream",
     "text": [
      "val Loss: 0.1944 MAE: 0.2757\n",
      "\n",
      "Epoch 30/50\n",
      "----------\n"
     ]
    },
    {
     "name": "stderr",
     "output_type": "stream",
     "text": [
      "train phase: 100%|██████████| 452/452 [04:28<00:00,  1.69it/s]\n"
     ]
    },
    {
     "name": "stdout",
     "output_type": "stream",
     "text": [
      "train Loss: 0.2422 MAE: 0.3230\n"
     ]
    },
    {
     "name": "stderr",
     "output_type": "stream",
     "text": [
      "val phase: 100%|██████████| 51/51 [00:06<00:00,  8.04it/s]\n"
     ]
    },
    {
     "name": "stdout",
     "output_type": "stream",
     "text": [
      "val Loss: 0.1951 MAE: 0.2771\n",
      "\n",
      "Epoch 31/50\n",
      "----------\n"
     ]
    },
    {
     "name": "stderr",
     "output_type": "stream",
     "text": [
      "train phase: 100%|██████████| 452/452 [04:28<00:00,  1.68it/s]\n"
     ]
    },
    {
     "name": "stdout",
     "output_type": "stream",
     "text": [
      "train Loss: 0.2415 MAE: 0.3222\n"
     ]
    },
    {
     "name": "stderr",
     "output_type": "stream",
     "text": [
      "val phase: 100%|██████████| 51/51 [00:06<00:00,  7.90it/s]\n"
     ]
    },
    {
     "name": "stdout",
     "output_type": "stream",
     "text": [
      "val Loss: 0.1920 MAE: 0.2739\n",
      "\n",
      "Epoch 32/50\n",
      "----------\n"
     ]
    },
    {
     "name": "stderr",
     "output_type": "stream",
     "text": [
      "train phase: 100%|██████████| 452/452 [04:28<00:00,  1.68it/s]\n"
     ]
    },
    {
     "name": "stdout",
     "output_type": "stream",
     "text": [
      "train Loss: 0.2391 MAE: 0.3201\n"
     ]
    },
    {
     "name": "stderr",
     "output_type": "stream",
     "text": [
      "val phase: 100%|██████████| 51/51 [00:06<00:00,  7.95it/s]\n"
     ]
    },
    {
     "name": "stdout",
     "output_type": "stream",
     "text": [
      "val Loss: 0.1936 MAE: 0.2758\n",
      "\n",
      "Epoch 33/50\n",
      "----------\n"
     ]
    },
    {
     "name": "stderr",
     "output_type": "stream",
     "text": [
      "train phase: 100%|██████████| 452/452 [04:27<00:00,  1.69it/s]\n"
     ]
    },
    {
     "name": "stdout",
     "output_type": "stream",
     "text": [
      "train Loss: 0.2379 MAE: 0.3187\n"
     ]
    },
    {
     "name": "stderr",
     "output_type": "stream",
     "text": [
      "val phase: 100%|██████████| 51/51 [00:06<00:00,  7.94it/s]\n"
     ]
    },
    {
     "name": "stdout",
     "output_type": "stream",
     "text": [
      "val Loss: 0.1940 MAE: 0.2758\n",
      "\n",
      "Epoch 34/50\n",
      "----------\n"
     ]
    },
    {
     "name": "stderr",
     "output_type": "stream",
     "text": [
      "train phase: 100%|██████████| 452/452 [04:27<00:00,  1.69it/s]\n"
     ]
    },
    {
     "name": "stdout",
     "output_type": "stream",
     "text": [
      "train Loss: 0.2377 MAE: 0.3184\n"
     ]
    },
    {
     "name": "stderr",
     "output_type": "stream",
     "text": [
      "val phase: 100%|██████████| 51/51 [00:06<00:00,  7.90it/s]\n"
     ]
    },
    {
     "name": "stdout",
     "output_type": "stream",
     "text": [
      "val Loss: 0.1946 MAE: 0.2768\n",
      "\n",
      "Epoch 35/50\n",
      "----------\n"
     ]
    },
    {
     "name": "stderr",
     "output_type": "stream",
     "text": [
      "train phase: 100%|██████████| 452/452 [04:28<00:00,  1.68it/s]\n"
     ]
    },
    {
     "name": "stdout",
     "output_type": "stream",
     "text": [
      "train Loss: 0.2371 MAE: 0.3182\n"
     ]
    },
    {
     "name": "stderr",
     "output_type": "stream",
     "text": [
      "val phase: 100%|██████████| 51/51 [00:06<00:00,  8.04it/s]\n"
     ]
    },
    {
     "name": "stdout",
     "output_type": "stream",
     "text": [
      "val Loss: 0.1940 MAE: 0.2755\n",
      "\n",
      "Epoch 36/50\n",
      "----------\n"
     ]
    },
    {
     "name": "stderr",
     "output_type": "stream",
     "text": [
      "train phase: 100%|██████████| 452/452 [04:28<00:00,  1.68it/s]\n"
     ]
    },
    {
     "name": "stdout",
     "output_type": "stream",
     "text": [
      "train Loss: 0.2361 MAE: 0.3167\n"
     ]
    },
    {
     "name": "stderr",
     "output_type": "stream",
     "text": [
      "val phase: 100%|██████████| 51/51 [00:06<00:00,  8.11it/s]\n"
     ]
    },
    {
     "name": "stdout",
     "output_type": "stream",
     "text": [
      "val Loss: 0.1934 MAE: 0.2748\n",
      "\n",
      "Epoch 37/50\n",
      "----------\n"
     ]
    },
    {
     "name": "stderr",
     "output_type": "stream",
     "text": [
      "train phase: 100%|██████████| 452/452 [04:28<00:00,  1.68it/s]\n"
     ]
    },
    {
     "name": "stdout",
     "output_type": "stream",
     "text": [
      "train Loss: 0.2356 MAE: 0.3162\n"
     ]
    },
    {
     "name": "stderr",
     "output_type": "stream",
     "text": [
      "val phase: 100%|██████████| 51/51 [00:06<00:00,  7.86it/s]\n"
     ]
    },
    {
     "name": "stdout",
     "output_type": "stream",
     "text": [
      "val Loss: 0.1914 MAE: 0.2731\n",
      "\n",
      "Epoch 38/50\n",
      "----------\n"
     ]
    },
    {
     "name": "stderr",
     "output_type": "stream",
     "text": [
      "train phase: 100%|██████████| 452/452 [04:30<00:00,  1.67it/s]\n"
     ]
    },
    {
     "name": "stdout",
     "output_type": "stream",
     "text": [
      "train Loss: 0.2376 MAE: 0.3184\n"
     ]
    },
    {
     "name": "stderr",
     "output_type": "stream",
     "text": [
      "val phase: 100%|██████████| 51/51 [00:06<00:00,  8.04it/s]\n"
     ]
    },
    {
     "name": "stdout",
     "output_type": "stream",
     "text": [
      "val Loss: 0.1916 MAE: 0.2734\n",
      "\n",
      "Epoch 39/50\n",
      "----------\n"
     ]
    },
    {
     "name": "stderr",
     "output_type": "stream",
     "text": [
      "train phase: 100%|██████████| 452/452 [04:31<00:00,  1.67it/s]\n"
     ]
    },
    {
     "name": "stdout",
     "output_type": "stream",
     "text": [
      "train Loss: 0.2356 MAE: 0.3165\n"
     ]
    },
    {
     "name": "stderr",
     "output_type": "stream",
     "text": [
      "val phase: 100%|██████████| 51/51 [00:06<00:00,  8.05it/s]\n"
     ]
    },
    {
     "name": "stdout",
     "output_type": "stream",
     "text": [
      "val Loss: 0.1937 MAE: 0.2752\n",
      "\n",
      "Epoch 40/50\n",
      "----------\n"
     ]
    },
    {
     "name": "stderr",
     "output_type": "stream",
     "text": [
      "train phase: 100%|██████████| 452/452 [04:28<00:00,  1.68it/s]\n"
     ]
    },
    {
     "name": "stdout",
     "output_type": "stream",
     "text": [
      "train Loss: 0.2352 MAE: 0.3152\n"
     ]
    },
    {
     "name": "stderr",
     "output_type": "stream",
     "text": [
      "val phase: 100%|██████████| 51/51 [00:06<00:00,  7.87it/s]\n"
     ]
    },
    {
     "name": "stdout",
     "output_type": "stream",
     "text": [
      "val Loss: 0.1956 MAE: 0.2770\n",
      "\n",
      "Epoch 41/50\n",
      "----------\n"
     ]
    },
    {
     "name": "stderr",
     "output_type": "stream",
     "text": [
      "train phase: 100%|██████████| 452/452 [04:28<00:00,  1.68it/s]\n"
     ]
    },
    {
     "name": "stdout",
     "output_type": "stream",
     "text": [
      "train Loss: 0.2356 MAE: 0.3163\n"
     ]
    },
    {
     "name": "stderr",
     "output_type": "stream",
     "text": [
      "val phase: 100%|██████████| 51/51 [00:06<00:00,  8.07it/s]\n"
     ]
    },
    {
     "name": "stdout",
     "output_type": "stream",
     "text": [
      "val Loss: 0.1896 MAE: 0.2709\n",
      "\n",
      "Epoch 42/50\n",
      "----------\n"
     ]
    },
    {
     "name": "stderr",
     "output_type": "stream",
     "text": [
      "train phase: 100%|██████████| 452/452 [04:29<00:00,  1.68it/s]\n"
     ]
    },
    {
     "name": "stdout",
     "output_type": "stream",
     "text": [
      "train Loss: 0.2350 MAE: 0.3158\n"
     ]
    },
    {
     "name": "stderr",
     "output_type": "stream",
     "text": [
      "val phase: 100%|██████████| 51/51 [00:06<00:00,  8.01it/s]\n"
     ]
    },
    {
     "name": "stdout",
     "output_type": "stream",
     "text": [
      "val Loss: 0.1908 MAE: 0.2721\n",
      "\n",
      "Epoch 43/50\n",
      "----------\n"
     ]
    },
    {
     "name": "stderr",
     "output_type": "stream",
     "text": [
      "train phase: 100%|██████████| 452/452 [04:28<00:00,  1.68it/s]\n"
     ]
    },
    {
     "name": "stdout",
     "output_type": "stream",
     "text": [
      "train Loss: 0.2355 MAE: 0.3164\n"
     ]
    },
    {
     "name": "stderr",
     "output_type": "stream",
     "text": [
      "val phase: 100%|██████████| 51/51 [00:06<00:00,  8.02it/s]\n"
     ]
    },
    {
     "name": "stdout",
     "output_type": "stream",
     "text": [
      "val Loss: 0.1936 MAE: 0.2749\n",
      "\n",
      "Epoch 44/50\n",
      "----------\n"
     ]
    },
    {
     "name": "stderr",
     "output_type": "stream",
     "text": [
      "train phase: 100%|██████████| 452/452 [04:29<00:00,  1.68it/s]\n"
     ]
    },
    {
     "name": "stdout",
     "output_type": "stream",
     "text": [
      "train Loss: 0.2344 MAE: 0.3149\n"
     ]
    },
    {
     "name": "stderr",
     "output_type": "stream",
     "text": [
      "val phase: 100%|██████████| 51/51 [00:06<00:00,  8.04it/s]\n"
     ]
    },
    {
     "name": "stdout",
     "output_type": "stream",
     "text": [
      "val Loss: 0.1889 MAE: 0.2701\n",
      "\n",
      "Epoch 45/50\n",
      "----------\n"
     ]
    },
    {
     "name": "stderr",
     "output_type": "stream",
     "text": [
      "train phase: 100%|██████████| 452/452 [04:29<00:00,  1.67it/s]\n"
     ]
    },
    {
     "name": "stdout",
     "output_type": "stream",
     "text": [
      "train Loss: 0.2350 MAE: 0.3158\n"
     ]
    },
    {
     "name": "stderr",
     "output_type": "stream",
     "text": [
      "val phase: 100%|██████████| 51/51 [00:06<00:00,  8.05it/s]\n"
     ]
    },
    {
     "name": "stdout",
     "output_type": "stream",
     "text": [
      "val Loss: 0.1903 MAE: 0.2716\n",
      "\n",
      "Epoch 46/50\n",
      "----------\n"
     ]
    },
    {
     "name": "stderr",
     "output_type": "stream",
     "text": [
      "train phase: 100%|██████████| 452/452 [04:28<00:00,  1.68it/s]\n"
     ]
    },
    {
     "name": "stdout",
     "output_type": "stream",
     "text": [
      "train Loss: 0.2340 MAE: 0.3148\n"
     ]
    },
    {
     "name": "stderr",
     "output_type": "stream",
     "text": [
      "val phase: 100%|██████████| 51/51 [00:06<00:00,  7.65it/s]\n"
     ]
    },
    {
     "name": "stdout",
     "output_type": "stream",
     "text": [
      "val Loss: 0.1872 MAE: 0.2686\n",
      "\n",
      "Epoch 47/50\n",
      "----------\n"
     ]
    },
    {
     "name": "stderr",
     "output_type": "stream",
     "text": [
      "train phase: 100%|██████████| 452/452 [04:30<00:00,  1.67it/s]\n"
     ]
    },
    {
     "name": "stdout",
     "output_type": "stream",
     "text": [
      "train Loss: 0.2343 MAE: 0.3151\n"
     ]
    },
    {
     "name": "stderr",
     "output_type": "stream",
     "text": [
      "val phase: 100%|██████████| 51/51 [00:06<00:00,  7.98it/s]\n"
     ]
    },
    {
     "name": "stdout",
     "output_type": "stream",
     "text": [
      "val Loss: 0.1903 MAE: 0.2722\n",
      "\n",
      "Epoch 48/50\n",
      "----------\n"
     ]
    },
    {
     "name": "stderr",
     "output_type": "stream",
     "text": [
      "train phase: 100%|██████████| 452/452 [04:30<00:00,  1.67it/s]\n"
     ]
    },
    {
     "name": "stdout",
     "output_type": "stream",
     "text": [
      "train Loss: 0.2339 MAE: 0.3147\n"
     ]
    },
    {
     "name": "stderr",
     "output_type": "stream",
     "text": [
      "val phase: 100%|██████████| 51/51 [00:06<00:00,  8.06it/s]\n"
     ]
    },
    {
     "name": "stdout",
     "output_type": "stream",
     "text": [
      "val Loss: 0.1873 MAE: 0.2683\n",
      "\n",
      "Epoch 49/50\n",
      "----------\n"
     ]
    },
    {
     "name": "stderr",
     "output_type": "stream",
     "text": [
      "train phase: 100%|██████████| 452/452 [04:29<00:00,  1.67it/s]\n"
     ]
    },
    {
     "name": "stdout",
     "output_type": "stream",
     "text": [
      "train Loss: 0.2328 MAE: 0.3139\n"
     ]
    },
    {
     "name": "stderr",
     "output_type": "stream",
     "text": [
      "val phase: 100%|██████████| 51/51 [00:06<00:00,  8.01it/s]\n"
     ]
    },
    {
     "name": "stdout",
     "output_type": "stream",
     "text": [
      "val Loss: 0.1883 MAE: 0.2695\n",
      "\n",
      "Epoch 50/50\n",
      "----------\n"
     ]
    },
    {
     "name": "stderr",
     "output_type": "stream",
     "text": [
      "train phase: 100%|██████████| 452/452 [04:31<00:00,  1.67it/s]\n"
     ]
    },
    {
     "name": "stdout",
     "output_type": "stream",
     "text": [
      "train Loss: 0.2344 MAE: 0.3151\n"
     ]
    },
    {
     "name": "stderr",
     "output_type": "stream",
     "text": [
      "val phase: 100%|██████████| 51/51 [00:06<00:00,  7.81it/s]\n"
     ]
    },
    {
     "name": "stdout",
     "output_type": "stream",
     "text": [
      "val Loss: 0.1923 MAE: 0.2742\n",
      "\n",
      "Training complete in 229m 24s\n",
      "Best val MAE: 0.268289\n"
     ]
    }
   ],
   "source": [
    "## \n",
    "from torch import optim\n",
    "\n",
    "model = ImageRegressor()\n",
    "model = model.to(device)\n",
    "model.load_state_dict(torch.load(base_path))\n",
    "criterion = CustomLoss()\n",
    "optimizer_ft = optim.Adam(model.parameters(), lr=learning_rate)\n",
    "\n",
    "\n",
    "exp_lr_scheduler = optim.lr_scheduler.MultiStepLR(optimizer_ft, milestones=[30], gamma=0.1)\n",
    "\n",
    "\n",
    "model, best_mae, epoch, history = train_model(model, criterion, optimizer_ft, exp_lr_scheduler, dataloaders, dataset_sizes,device, num_epochs = total_epochs, patience=20)\n"
   ]
  },
  {
   "cell_type": "markdown",
   "id": "f0de62a2",
   "metadata": {
    "papermill": {
     "duration": 1.368591,
     "end_time": "2025-01-15T14:47:21.165995",
     "exception": false,
     "start_time": "2025-01-15T14:47:19.797404",
     "status": "completed"
    },
    "tags": []
   },
   "source": [
    "## Plotting the History"
   ]
  },
  {
   "cell_type": "code",
   "execution_count": 21,
   "id": "ecd3a365",
   "metadata": {
    "execution": {
     "iopub.execute_input": "2025-01-15T14:47:23.944054Z",
     "iopub.status.busy": "2025-01-15T14:47:23.943737Z",
     "iopub.status.idle": "2025-01-15T14:47:23.950376Z",
     "shell.execute_reply": "2025-01-15T14:47:23.949495Z"
    },
    "papermill": {
     "duration": 1.385535,
     "end_time": "2025-01-15T14:47:23.951791",
     "exception": false,
     "start_time": "2025-01-15T14:47:22.566256",
     "status": "completed"
    },
    "tags": []
   },
   "outputs": [],
   "source": [
    "import matplotlib.pyplot as plt\n",
    "\n",
    "def plot_history(history):\n",
    "    \"\"\"\n",
    "    Plots training and validation loss and MAE over epochs from the given data structure.\n",
    "\n",
    "    Parameters:\n",
    "        history (dict): A dictionary containing training and validation metrics per epoch.\n",
    "    \"\"\"\n",
    "    epochs = history['epoch']\n",
    "\n",
    "    # Extract metrics\n",
    "    train_loss = history['train']['loss']\n",
    "    train_mae = history['train']['MAE']\n",
    "    val_loss = history['val']['loss']\n",
    "    val_mae = history['val']['MAE']\n",
    "\n",
    "    # Create subplots for Loss and MAE\n",
    "    fig, axs = plt.subplots(1, 2, figsize=(12, 6))\n",
    "\n",
    "    # Plot Loss\n",
    "    axs[0].plot(epochs, train_loss, label='Train Loss', marker='o', color='blue')\n",
    "    axs[0].plot(epochs, val_loss, label='Validation Loss', marker='o', color='orange')\n",
    "    axs[0].set_title('Loss vs. Epochs')\n",
    "    axs[0].set_xlabel('Epochs')\n",
    "    axs[0].set_ylabel('Loss')\n",
    "    axs[0].legend()\n",
    "    axs[0].grid(True)\n",
    "\n",
    "    # Plot MAE\n",
    "    axs[1].plot(epochs, train_mae, label='Train MAE', marker='o', color='green')\n",
    "    axs[1].plot(epochs, val_mae, label='Validation MAE', marker='o', color='red')\n",
    "    axs[1].set_title('MAE vs. Epochs')\n",
    "    axs[1].set_xlabel('Epochs')\n",
    "    axs[1].set_ylabel('MAE')\n",
    "    axs[1].legend()\n",
    "    axs[1].grid(True)\n",
    "\n",
    "    # Adjust layout and show plots\n",
    "    plt.tight_layout()\n",
    "    plt.show()"
   ]
  },
  {
   "cell_type": "code",
   "execution_count": 22,
   "id": "5f4eb9e9",
   "metadata": {
    "execution": {
     "iopub.execute_input": "2025-01-15T14:47:26.612269Z",
     "iopub.status.busy": "2025-01-15T14:47:26.611939Z",
     "iopub.status.idle": "2025-01-15T14:47:27.147570Z",
     "shell.execute_reply": "2025-01-15T14:47:27.146680Z"
    },
    "papermill": {
     "duration": 1.914448,
     "end_time": "2025-01-15T14:47:27.149930",
     "exception": false,
     "start_time": "2025-01-15T14:47:25.235482",
     "status": "completed"
    },
    "tags": []
   },
   "outputs": [
    {
     "data": {
      "image/png": "[encoded data removed]",
      "text/plain": [
       "<Figure size 1200x600 with 2 Axes>"
      ]
     },
     "metadata": {},
     "output_type": "display_data"
    }
   ],
   "source": [
    "plot_history(history)"
   ]
  },
  {
   "cell_type": "markdown",
   "id": "63ff22c1",
   "metadata": {
    "papermill": {
     "duration": 1.269267,
     "end_time": "2025-01-15T14:47:29.836157",
     "exception": false,
     "start_time": "2025-01-15T14:47:28.566890",
     "status": "completed"
    },
    "tags": []
   },
   "source": [
    "## Saving the best model"
   ]
  },
  {
   "cell_type": "code",
   "execution_count": 23,
   "id": "95fbc429",
   "metadata": {
    "execution": {
     "iopub.execute_input": "2025-01-15T14:47:32.636295Z",
     "iopub.status.busy": "2025-01-15T14:47:32.635969Z",
     "iopub.status.idle": "2025-01-15T14:47:32.759820Z",
     "shell.execute_reply": "2025-01-15T14:47:32.759114Z"
    },
    "papermill": {
     "duration": 1.552057,
     "end_time": "2025-01-15T14:47:32.761316",
     "exception": false,
     "start_time": "2025-01-15T14:47:31.209259",
     "status": "completed"
    },
    "tags": []
   },
   "outputs": [],
   "source": [
    "import pickle\n",
    "os.makedirs('saved_models', exist_ok = True)\n",
    "torch.save(model, f'saved_models/image_regressor_mae_{best_mae}_epoch_{epoch}.pth')\n",
    "torch.save(model.state_dict(), f'saved_models/image_regressor_wts_mae_{best_mae:.4f}_epoch_{epoch}.pth')\n",
    "\n",
    "with open('saved_models/train_history.pkl', 'wb') as f:\n",
    "    pickle.dump(history, f)"
   ]
  },
  {
   "cell_type": "markdown",
   "id": "eb3ebf98",
   "metadata": {
    "papermill": {
     "duration": 1.375089,
     "end_time": "2025-01-15T14:47:35.514584",
     "exception": false,
     "start_time": "2025-01-15T14:47:34.139495",
     "status": "completed"
    },
    "tags": []
   },
   "source": [
    "## Evaluating on the Testset"
   ]
  },
  {
   "cell_type": "code",
   "execution_count": 24,
   "id": "b0946c35",
   "metadata": {
    "execution": {
     "iopub.execute_input": "2025-01-15T14:47:38.159867Z",
     "iopub.status.busy": "2025-01-15T14:47:38.159582Z",
     "iopub.status.idle": "2025-01-15T14:47:41.397988Z",
     "shell.execute_reply": "2025-01-15T14:47:41.397281Z"
    },
    "papermill": {
     "duration": 4.618998,
     "end_time": "2025-01-15T14:47:41.399410",
     "exception": false,
     "start_time": "2025-01-15T14:47:36.780412",
     "status": "completed"
    },
    "tags": []
   },
   "outputs": [
    {
     "name": "stdout",
     "output_type": "stream",
     "text": [
      "Testset Size:  1010 images\n"
     ]
    }
   ],
   "source": [
    "\n",
    "\n",
    "testset = LoadDataset(\n",
    "    test_csv,\n",
    "    images_root,\n",
    "    transforms=data_transforms['test'],\n",
    "    cache_strategy = CacheStrategy.NO_CACHE\n",
    ")\n",
    "\n",
    "testloader = torch.utils.data.DataLoader(testset, batch_size=batch_size,\n",
    "                                         shuffle=False)\n",
    "\n",
    "print('Testset Size: ', len(testset), 'images')"
   ]
  },
  {
   "cell_type": "code",
   "execution_count": 25,
   "id": "8b653410",
   "metadata": {
    "execution": {
     "iopub.execute_input": "2025-01-15T14:47:44.091823Z",
     "iopub.status.busy": "2025-01-15T14:47:44.091502Z",
     "iopub.status.idle": "2025-01-15T14:47:56.585267Z",
     "shell.execute_reply": "2025-01-15T14:47:56.584382Z"
    },
    "papermill": {
     "duration": 13.774415,
     "end_time": "2025-01-15T14:47:56.586639",
     "exception": false,
     "start_time": "2025-01-15T14:47:42.812224",
     "status": "completed"
    },
    "tags": []
   },
   "outputs": [
    {
     "name": "stderr",
     "output_type": "stream",
     "text": [
      "100%|██████████| 16/16 [00:12<00:00,  1.28it/s]"
     ]
    },
    {
     "name": "stdout",
     "output_type": "stream",
     "text": [
      "Evaluation Loss: 0.1684 Evaluation MAE: 0.2350\n"
     ]
    },
    {
     "name": "stderr",
     "output_type": "stream",
     "text": [
      "\n"
     ]
    }
   ],
   "source": [
    "eval_loss, eval_mae = evaluate_model(model, criterion , testloader)"
   ]
  }
 ],
 "metadata": {
  "kaggle": {
   "accelerator": "gpu",
   "dataSources": [
    {
     "datasetId": 6481953,
     "sourceId": 10468855,
     "sourceType": "datasetVersion"
    },
    {
     "datasetId": 6402174,
     "sourceId": 10469021,
     "sourceType": "datasetVersion"
    },
    {
     "isSourceIdPinned": true,
     "modelId": 218603,
     "modelInstanceId": 196697,
     "sourceId": 230667,
     "sourceType": "modelInstanceVersion"
    }
   ],
   "dockerImageVersionId": 30840,
   "isGpuEnabled": true,
   "isInternetEnabled": true,
   "language": "python",
   "sourceType": "notebook"
  },
  "kernelspec": {
   "display_name": "Python 3",
   "language": "python",
   "name": "python3"
  },
  "language_info": {
   "codemirror_mode": {
    "name": "ipython",
    "version": 3
   },
   "file_extension": ".py",
   "mimetype": "text/x-python",
   "name": "python",
   "nbconvert_exporter": "python",
   "pygments_lexer": "ipython3",
   "version": "3.10.12"
  },
  "papermill": {
   "default_parameters": {},
   "duration": 14426.563048,
   "end_time": "2025-01-15T14:48:01.488062",
   "environment_variables": {},
   "exception": null,
   "input_path": "__notebook__.ipynb",
   "output_path": "__notebook__.ipynb",
   "parameters": {},
   "start_time": "2025-01-15T10:47:34.925014",
   "version": "2.6.0"
  }
 },
 "nbformat": 4,
 "nbformat_minor": 5
}
