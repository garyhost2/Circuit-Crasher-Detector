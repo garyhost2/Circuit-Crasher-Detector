{
 "cells": [
  {
   "cell_type": "markdown",
   "id": "c7635efe",
   "metadata": {},
   "source": [
    "The dataset used in this training is created by random shuffling of paths to create the validation and train set. `zstackexperiment_14112023_101-110` was used as the test set. It contains a lot of image augmentation and will be used as a base model. The base model will be fintuened with smaller learning rate to tune for better MAE."
   ]
  },
  {
   "cell_type": "code",
   "execution_count": 1,
   "id": "03dd8c59",
   "metadata": {
    "execution": {
     "iopub.execute_input": "2025-01-15T05:38:37.836762Z",
     "iopub.status.busy": "2025-01-15T05:38:37.836438Z",
     "iopub.status.idle": "2025-01-15T05:38:43.186098Z",
     "shell.execute_reply": "2025-01-15T05:38:43.185136Z"
    },
    "papermill": {
     "duration": 5.359039,
     "end_time": "2025-01-15T05:38:43.187785",
     "exception": false,
     "start_time": "2025-01-15T05:38:37.828746",
     "status": "completed"
    },
    "tags": []
   },
   "outputs": [],
   "source": [
    "import os\n",
    "import time\n",
    "\n",
    "import torch\n",
    "import torchvision\n",
    "import shutil\n",
    "import torch.nn as nn\n",
    "import numpy as np\n",
    "import pandas as pd\n",
    "from tqdm import tqdm\n",
    "\n",
    "from torch.utils.data import Dataset, DataLoader, random_split\n",
    "from torchvision import transforms, utils\n",
    "from torchvision.io import read_image, ImageReadMode\n",
    "\n",
    "from PIL import Image, ImageDraw, ImageFont\n"
   ]
  },
  {
   "cell_type": "markdown",
   "id": "06a752ef",
   "metadata": {},
   "source": [
    "## Configurations"
   ]
  },
  {
   "cell_type": "code",
   "execution_count": null,
   "id": "8bfaa2bc",
   "metadata": {},
   "outputs": [],
   "source": [
    "# Dataset paths, Adjust accordingly.\n",
    "images_root = '/media/eyildiz/data/zstack_analys/cnn_dataset/0.1_training_data'\n",
    "train_csv = images_root + '/train_targets.csv'\n",
    "val_csv = images_root + '/val_targets.csv'\n",
    "test_csv = images_root+ '/test_targets.csv'\n",
    "\n",
    "#model train parameters\n",
    "learning_rate = 1e-4\n",
    "batch_size = 64\n",
    "total_epochs = 100\n",
    "\n",
    "device = torch.device(\"cuda:0\" if torch.cuda.is_available() else \"cpu\")"
   ]
  },
  {
   "cell_type": "markdown",
   "id": "267180d9",
   "metadata": {
    "papermill": {
     "duration": 0.005672,
     "end_time": "2025-01-15T05:38:43.199860",
     "exception": false,
     "start_time": "2025-01-15T05:38:43.194188",
     "status": "completed"
    },
    "tags": []
   },
   "source": [
    "## Preparing the Datasets"
   ]
  },
  {
   "cell_type": "code",
   "execution_count": 3,
   "id": "6115ea28",
   "metadata": {
    "execution": {
     "iopub.execute_input": "2025-01-15T05:38:43.477620Z",
     "iopub.status.busy": "2025-01-15T05:38:43.477282Z",
     "iopub.status.idle": "2025-01-15T05:38:43.495102Z",
     "shell.execute_reply": "2025-01-15T05:38:43.494451Z"
    },
    "papermill": {
     "duration": 0.025479,
     "end_time": "2025-01-15T05:38:43.496397",
     "exception": false,
     "start_time": "2025-01-15T05:38:43.470918",
     "status": "completed"
    },
    "tags": []
   },
   "outputs": [],
   "source": [
    "from enum import Enum\n",
    "from typing import Optional, Union, List\n",
    "\n",
    "class CacheStrategy(Enum):\n",
    "    NO_CACHE = \"no_cache\"\n",
    "    DISK_CACHE = \"disk_cache\"\n",
    "    MEMORY_CACHE = \"memory_cache\"\n",
    "\n",
    "class LoadDataset(Dataset):\n",
    "    def __init__(\n",
    "        self,\n",
    "        path_csv: str,\n",
    "        images_path: str,\n",
    "        cache_strategy: Union[str, CacheStrategy] = CacheStrategy.MEMORY_CACHE,\n",
    "        transforms: Optional[transforms.Compose] = None,\n",
    "        img_size: int = 270,\n",
    "        cache_dir: str = \"cache\"\n",
    "    ):\n",
    "        super().__init__()\n",
    "        self.annots = pd.read_csv(path_csv)\n",
    "        self.images_path = images_path\n",
    "        self.transforms = transforms\n",
    "        self.cache_dir = cache_dir\n",
    "        self.img_size = img_size\n",
    "        \n",
    "        # Convert string to enum if necessary\n",
    "        if isinstance(cache_strategy, str):\n",
    "            cache_strategy = CacheStrategy(cache_strategy)\n",
    "        self.cache_strategy = cache_strategy\n",
    "        \n",
    "        # Check for missing files\n",
    "        self._check_missing_files(handle_missing='remove')\n",
    "        \n",
    "        # Initialize cache-related attributes\n",
    "        self.cached_data = None\n",
    "        self._setup_cache()\n",
    "        \n",
    "    def _setup_cache(self):\n",
    "        \"\"\"Set up caching based on the selected strategy\"\"\"\n",
    "        if self.cache_strategy in [CacheStrategy.DISK_CACHE, CacheStrategy.MEMORY_CACHE]:\n",
    "            if not os.path.exists(self.cache_dir):\n",
    "                os.makedirs(self.cache_dir)\n",
    "                \n",
    "        if self.cache_strategy == CacheStrategy.MEMORY_CACHE:\n",
    "            self.cached_data = self._load_or_cache()\n",
    "    \n",
    "    def _get_cache_path(self, index: int) -> str:\n",
    "        \"\"\"Get the cache file path for a given index\"\"\"\n",
    "        return os.path.join(self.cache_dir, f\"cached_{self.img_size}_{index}.pt\")\n",
    "    \n",
    "    def _load_or_cache(self) -> List[torch.Tensor]:\n",
    "        \"\"\"Load all images into memory cache\"\"\"\n",
    "        cached_data = []\n",
    "        for i, img_path in enumerate(tqdm(self.annots.iloc[:, 0], desc='Caching Images to Memory')):\n",
    "            cache_path = self._get_cache_path(i)\n",
    "            \n",
    "            if os.path.exists(cache_path):\n",
    "                cached_data.append(torch.load(cache_path, weights_only=False))\n",
    "            else:\n",
    "                img = self._load_and_process_image(img_path)\n",
    "                if self.cache_strategy != CacheStrategy.NO_CACHE:\n",
    "                    torch.save(img, cache_path)\n",
    "                cached_data.append(img)\n",
    "                \n",
    "        return cached_data\n",
    "    \n",
    "    def _load_and_process_image(self, img_path: str) -> torch.Tensor:\n",
    "        \"\"\"Load and process a single image\"\"\"\n",
    "        img_path_full = os.path.join(self.images_path, img_path)\n",
    "        try:\n",
    "            img = Image.open(img_path_full)\n",
    "            img = transforms.functional.resize(img, self.img_size, interpolation=transforms.InterpolationMode.BICUBIC)\n",
    "            return img\n",
    "        except FileNotFoundError:\n",
    "            print(f\"Image not found at path: {img_path_full}\")\n",
    "            raise\n",
    "    \n",
    "    def _get_image(self, index: int) -> torch.Tensor:\n",
    "        \"\"\"Get image based on caching strategy\"\"\"\n",
    "        if self.cache_strategy == CacheStrategy.MEMORY_CACHE:\n",
    "            return self.cached_data[index]\n",
    "        \n",
    "        elif self.cache_strategy == CacheStrategy.DISK_CACHE:\n",
    "            cache_path = self._get_cache_path(index)\n",
    "            if os.path.exists(cache_path):\n",
    "                return torch.load(cache_path, weights_only=False)\n",
    "            else:\n",
    "                img = self._load_and_process_image(self.annots.iloc[index, 0])\n",
    "                torch.save(img, cache_path)\n",
    "                return img\n",
    "                \n",
    "        else:  # NO_CACHE\n",
    "            return self._load_and_process_image(self.annots.iloc[index, 0])\n",
    "    \n",
    "    def __len__(self) -> int:\n",
    "        return len(self.annots)\n",
    "    \n",
    "    def __getitem__(self, index: int) -> tuple:\n",
    "        img = self._get_image(index)\n",
    "        target = torch.tensor(self.annots.iloc[index, 1], dtype=torch.float)\n",
    "        \n",
    "        if self.transforms:\n",
    "            img = self.transforms(img)\n",
    "            \n",
    "        return img, target\n",
    "    \n",
    "    def visualize(self, idx: int) -> None:\n",
    "        \"\"\"Visualize a single image with its target value\"\"\"\n",
    "        img, target = self.__getitem__(idx)\n",
    "        if isinstance(img, torch.Tensor):\n",
    "            tensor_to_pil = transforms.ToPILImage()\n",
    "            img = tensor_to_pil(img)\n",
    "        draw = ImageDraw.Draw(img)\n",
    "        text = f'Offset = {target.item():.3f}'\n",
    "        font = ImageFont.load_default()\n",
    "        draw.text((30, 20), text, font=font)\n",
    "        return img\n",
    "        \n",
    "    \n",
    "    def _check_missing_files(self, handle_missing: str = 'log') -> List[str]:\n",
    "        \"\"\"Check for missing image files and handle them based on the provided method\"\"\"\n",
    "        missing_files = []\n",
    "        \n",
    "        for idx, row in self.annots.iterrows():\n",
    "            img_path = row.iloc[0]\n",
    "            full_path = os.path.join(self.images_path, img_path)\n",
    "            if not os.path.exists(full_path):\n",
    "                missing_files.append(full_path)\n",
    "                print(f\"Missing file: {full_path}\")\n",
    "        \n",
    "        if handle_missing == 'remove' and missing_files:\n",
    "            self.annots = self.annots[~self.annots.iloc[:, 0].isin([os.path.relpath(f, self.images_path) for f in missing_files])]\n",
    "            self.annots.reset_index(drop=True, inplace=True)\n",
    "            print(f\"Removed {len(missing_files)} missing file entries from the dataset.\")\n",
    "        \n",
    "        return missing_files"
   ]
  },
  {
   "cell_type": "code",
   "execution_count": 4,
   "id": "13b3dace",
   "metadata": {
    "execution": {
     "iopub.execute_input": "2025-01-15T05:38:43.508723Z",
     "iopub.status.busy": "2025-01-15T05:38:43.508467Z",
     "iopub.status.idle": "2025-01-15T05:38:43.564455Z",
     "shell.execute_reply": "2025-01-15T05:38:43.563323Z"
    },
    "papermill": {
     "duration": 0.064369,
     "end_time": "2025-01-15T05:38:43.566641",
     "exception": false,
     "start_time": "2025-01-15T05:38:43.502272",
     "status": "completed"
    },
    "tags": []
   },
   "outputs": [],
   "source": [
    "import torch\n",
    "from torchvision import transforms\n",
    "from torchvision.transforms import InterpolationMode\n",
    "\n",
    "\n",
    "# Data transformations\n",
    "data_transforms = {\n",
    "    'train': transforms.Compose([\n",
    "        # Geometric augmentations with RandomChoice\n",
    "\n",
    "        transforms.RandomAffine(\n",
    "            degrees=(-15, 15),\n",
    "            translate=(0.4, 0.1),\n",
    "            fill=2,\n",
    "            interpolation = InterpolationMode.BILINEAR\n",
    "        ),\n",
    "\n",
    "        transforms.RandomHorizontalFlip(p=0.3),\n",
    "        transforms.RandomVerticalFlip(p=0.3),\n",
    "        \n",
    "        # Color augmentations\n",
    "        transforms.ColorJitter(brightness=0.5, contrast=0.5),\n",
    "        \n",
    "        # Conversion and normalization\n",
    "        transforms.ToTensor(),\n",
    "        transforms.Normalize(mean=[0.0331], std=[0.0228]),  # Calculated on this dataset\n",
    "        transforms.RandomErasing(p = 0.65, scale = (0.01, 0.05))\n",
    "    ]),\n",
    "\n",
    "    'test': transforms.Compose([\n",
    "        transforms.ToTensor(),\n",
    "        transforms.Normalize(mean=[0.0331], std=[0.0228]),  # Calculated on this dataset\n",
    "    ]),\n",
    "}\n"
   ]
  },
  {
   "cell_type": "code",
   "execution_count": 5,
   "id": "fe6a62f2",
   "metadata": {
    "execution": {
     "iopub.execute_input": "2025-01-15T05:38:43.583946Z",
     "iopub.status.busy": "2025-01-15T05:38:43.583645Z",
     "iopub.status.idle": "2025-01-15T05:43:06.737935Z",
     "shell.execute_reply": "2025-01-15T05:43:06.736909Z"
    },
    "papermill": {
     "duration": 263.162967,
     "end_time": "2025-01-15T05:43:06.739165",
     "exception": false,
     "start_time": "2025-01-15T05:38:43.576198",
     "status": "completed"
    },
    "tags": []
   },
   "outputs": [
    {
     "name": "stderr",
     "output_type": "stream",
     "text": [
      "Caching Images to Memory: 100%|██████████| 28904/28904 [03:17<00:00, 146.23it/s]\n",
      "Caching Images to Memory: 100%|██████████| 3212/3212 [00:21<00:00, 149.83it/s]\n"
     ]
    }
   ],
   "source": [
    "# Load the dataset with specified transformations\n",
    "root_path = images_root\n",
    "\n",
    "trainset = LoadDataset(\n",
    "    train_csv,\n",
    "    root_path,\n",
    "    transforms=data_transforms['train'],\n",
    "    cache_dir=\"cache_train\"\n",
    ")\n",
    "\n",
    "valset = LoadDataset(\n",
    "    test_csv,\n",
    "    root_path,\n",
    "    transforms=data_transforms['test'],\n",
    "    cache_dir=\"cache_val\"\n",
    ")"
   ]
  },
  {
   "cell_type": "code",
   "execution_count": 6,
   "id": "b141ebf1",
   "metadata": {
    "execution": {
     "iopub.execute_input": "2025-01-15T05:43:06.974468Z",
     "iopub.status.busy": "2025-01-15T05:43:06.974116Z",
     "iopub.status.idle": "2025-01-15T05:43:07.069701Z",
     "shell.execute_reply": "2025-01-15T05:43:07.068806Z"
    },
    "papermill": {
     "duration": 0.237089,
     "end_time": "2025-01-15T05:43:07.071100",
     "exception": false,
     "start_time": "2025-01-15T05:43:06.834011",
     "status": "completed"
    },
    "tags": []
   },
   "outputs": [
    {
     "name": "stdout",
     "output_type": "stream",
     "text": [
      "Image shapes:  torch.Size([1, 270, 320])\n"
     ]
    }
   ],
   "source": [
    "print('Image shapes: ', trainset[0][0].shape)"
   ]
  },
  {
   "cell_type": "code",
   "execution_count": 7,
   "id": "ac471e3c",
   "metadata": {
    "execution": {
     "iopub.execute_input": "2025-01-15T05:43:07.261569Z",
     "iopub.status.busy": "2025-01-15T05:43:07.261200Z",
     "iopub.status.idle": "2025-01-15T05:43:07.281524Z",
     "shell.execute_reply": "2025-01-15T05:43:07.280671Z"
    },
    "papermill": {
     "duration": 0.116105,
     "end_time": "2025-01-15T05:43:07.282858",
     "exception": false,
     "start_time": "2025-01-15T05:43:07.166753",
     "status": "completed"
    },
    "tags": []
   },
   "outputs": [
    {
     "data": {
      "image/jpeg": "[encoded data removed]",
      "image/png": "[encoded data removed]",
      "text/plain": [
       "<PIL.Image.Image image mode=L size=320x270>"
      ]
     },
     "execution_count": 7,
     "metadata": {},
     "output_type": "execute_result"
    }
   ],
   "source": [
    "idx = torch.randint(0, len(trainset), size = (1, 1))\n",
    "img = trainset.visualize(idx[0].item())\n",
    "img"
   ]
  },
  {
   "cell_type": "markdown",
   "id": "f9af8abe",
   "metadata": {
    "papermill": {
     "duration": 0.094482,
     "end_time": "2025-01-15T05:43:07.668065",
     "exception": false,
     "start_time": "2025-01-15T05:43:07.573583",
     "status": "completed"
    },
    "tags": []
   },
   "source": [
    "## Preparing Dataloaders"
   ]
  },
  {
   "cell_type": "code",
   "execution_count": 9,
   "id": "9e02d92d",
   "metadata": {
    "execution": {
     "iopub.execute_input": "2025-01-15T05:43:07.859212Z",
     "iopub.status.busy": "2025-01-15T05:43:07.858885Z",
     "iopub.status.idle": "2025-01-15T05:43:07.864972Z",
     "shell.execute_reply": "2025-01-15T05:43:07.864270Z"
    },
    "papermill": {
     "duration": 0.103292,
     "end_time": "2025-01-15T05:43:07.866195",
     "exception": false,
     "start_time": "2025-01-15T05:43:07.762903",
     "status": "completed"
    },
    "tags": []
   },
   "outputs": [
    {
     "name": "stdout",
     "output_type": "stream",
     "text": [
      "Size of datasets: {'train': 28904, 'val': 3212}\n"
     ]
    }
   ],
   "source": [
    "trainloader = torch.utils.data.DataLoader(trainset, batch_size=batch_size, shuffle=True)\n",
    "\n",
    "\n",
    "\n",
    "                                     \n",
    "valloader = torch.utils.data.DataLoader(valset, batch_size=batch_size,\n",
    "                                         shuffle=False)\n",
    "\n",
    "\n",
    "\n",
    "\n",
    "\n",
    "dataset_size = [len(trainset), len(valset)]\n",
    "\n",
    "\n",
    "\n",
    "dataloaders= {\n",
    "    \"train\": trainloader,\n",
    "    \"val\": valloader\n",
    "}\n",
    "\n",
    "dataset_sizes = {\n",
    "    \"train\": dataset_size[0],\n",
    "    \"val\": dataset_size[1]\n",
    "}\n",
    "\n",
    "print('Size of datasets:', dataset_sizes)"
   ]
  },
  {
   "cell_type": "markdown",
   "id": "317e92b2",
   "metadata": {
    "papermill": {
     "duration": 0.093604,
     "end_time": "2025-01-15T05:44:41.799240",
     "exception": false,
     "start_time": "2025-01-15T05:44:41.705636",
     "status": "completed"
    },
    "tags": []
   },
   "source": [
    "## Model Architecture Defination\n",
    "I will be using eficcientNetv2 small for intial testing and training of the data and developing network."
   ]
  },
  {
   "cell_type": "code",
   "execution_count": 13,
   "id": "c59bba33",
   "metadata": {
    "execution": {
     "iopub.execute_input": "2025-01-15T05:44:42.618795Z",
     "iopub.status.busy": "2025-01-15T05:44:42.618469Z",
     "iopub.status.idle": "2025-01-15T05:44:42.626734Z",
     "shell.execute_reply": "2025-01-15T05:44:42.626020Z"
    },
    "papermill": {
     "duration": 0.105796,
     "end_time": "2025-01-15T05:44:42.627923",
     "exception": false,
     "start_time": "2025-01-15T05:44:42.522127",
     "status": "completed"
    },
    "tags": []
   },
   "outputs": [],
   "source": [
    "import torchvision\n",
    "import torch.nn as nn\n",
    "\n",
    "\n",
    "class Conv2dNormActivation(nn.Module):\n",
    "    def __init__(self, in_channels, out_channels):\n",
    "        super().__init__()\n",
    "        self.layer = nn.Sequential(\n",
    "            nn.Conv2d(\n",
    "                in_channels=in_channels,\n",
    "                out_channels=out_channels,\n",
    "                kernel_size=3,\n",
    "                stride=2,\n",
    "            ),\n",
    "            nn.BatchNorm2d(\n",
    "                out_channels,\n",
    "                eps=0.001,\n",
    "                momentum=0.1,\n",
    "                affine=True,\n",
    "                track_running_stats=True,\n",
    "            ),\n",
    "            nn.SiLU(inplace=True),\n",
    "        )\n",
    "\n",
    "    def forward(self, x):\n",
    "        return self.layer(x)\n",
    "\n",
    "\n",
    "class ImageRegressor(nn.Module):\n",
    "    def __init__(self):\n",
    "        super().__init__()\n",
    "\n",
    "        self.feature_extractor = self._init_feature_extractor()\n",
    "        self.avgpool = nn.AdaptiveAvgPool2d(output_size=1)\n",
    "        self.flatten = nn.Flatten()\n",
    "\n",
    "        self.regression_head = nn.Sequential(\n",
    "            nn.Dropout(0.4),\n",
    "            nn.Linear(1280, 256),\n",
    "            nn.ReLU(),\n",
    "            nn.Dropout(0.3),\n",
    "            nn.Linear(256, 1),\n",
    "        )\n",
    "\n",
    "    def forward(self, img):\n",
    "        features = self.feature_extractor(img)  # Output: [batch_size, 1280, H', W']\n",
    "        features = self.avgpool(features)  # Output: [batch_size, 1280, 1, 1]\n",
    "        features = self.flatten(features)  # Output: [batch_size, 1280]\n",
    "        reg = self.regression_head(features)\n",
    "        return reg\n",
    "\n",
    "    def _init_feature_extractor(self, in_channels=1):\n",
    "        base_network = torchvision.models.efficientnet_v2_s(weights=None)\n",
    "        feature_extractor = base_network.features\n",
    "        \n",
    "        feature_extractor[0][0] = nn.Conv2d(\n",
    "            1, 24, kernel_size=(3, 3), stride=(2, 2), padding=(1, 1), bias=False\n",
    "        )\n",
    "        \n",
    "        feature_extractor[0] = nn.Sequential(\n",
    "            feature_extractor[0],\n",
    "            Conv2dNormActivation(24, 24),\n",
    "        )\n",
    "\n",
    "        feature_extractor = nn.Sequential(\n",
    "            feature_extractor[:2],\n",
    "            feature_extractor[2][:2],\n",
    "            feature_extractor[3][:2],\n",
    "            feature_extractor[4][:3],\n",
    "            feature_extractor[5][:2],\n",
    "            feature_extractor[6][:4],\n",
    "            feature_extractor[-1],\n",
    "        )\n",
    "        # ref:https://www.researchgate.net/figure/Efficientnet-v2-s-Architecture-a-represents-the-schematic-of-the-model-from-image-input_fig2_373782480\n",
    "        # There are total 8 blocks, 2 conv3dNorm(at start and at end) and 3 fused mbconv , 3 mb conv\n",
    "        return feature_extractor\n"
   ]
  },
  {
   "cell_type": "code",
   "execution_count": 14,
   "id": "66daa8b4",
   "metadata": {
    "execution": {
     "iopub.execute_input": "2025-01-15T05:44:42.819591Z",
     "iopub.status.busy": "2025-01-15T05:44:42.819263Z",
     "iopub.status.idle": "2025-01-15T05:44:43.497346Z",
     "shell.execute_reply": "2025-01-15T05:44:43.496480Z"
    },
    "papermill": {
     "duration": 0.775293,
     "end_time": "2025-01-15T05:44:43.498783",
     "exception": false,
     "start_time": "2025-01-15T05:44:42.723490",
     "status": "completed"
    },
    "tags": []
   },
   "outputs": [
    {
     "data": {
      "text/plain": [
       "torch.Size([1, 1])"
      ]
     },
     "execution_count": 14,
     "metadata": {},
     "output_type": "execute_result"
    }
   ],
   "source": [
    "model = ImageRegressor()\n",
    "\n",
    "#test\n",
    "inp = torch.randn((1, 1, 270, 320))\n",
    "\n",
    "out = model(inp)\n",
    "out.shape\n"
   ]
  },
  {
   "cell_type": "markdown",
   "id": "c0de089c",
   "metadata": {
    "papermill": {
     "duration": 0.095724,
     "end_time": "2025-01-15T05:44:43.713598",
     "exception": false,
     "start_time": "2025-01-15T05:44:43.617874",
     "status": "completed"
    },
    "tags": []
   },
   "source": [
    "## Training the Model"
   ]
  },
  {
   "cell_type": "markdown",
   "id": "3d07f681",
   "metadata": {
    "papermill": {
     "duration": 0.094586,
     "end_time": "2025-01-15T05:44:43.902785",
     "exception": false,
     "start_time": "2025-01-15T05:44:43.808199",
     "status": "completed"
    },
    "tags": []
   },
   "source": [
    "### Helper Functions for training and Evaluation"
   ]
  },
  {
   "cell_type": "code",
   "execution_count": 15,
   "id": "69df6d8c",
   "metadata": {
    "execution": {
     "iopub.execute_input": "2025-01-15T05:44:44.094497Z",
     "iopub.status.busy": "2025-01-15T05:44:44.094135Z",
     "iopub.status.idle": "2025-01-15T05:44:44.107091Z",
     "shell.execute_reply": "2025-01-15T05:44:44.106383Z"
    },
    "papermill": {
     "duration": 0.110144,
     "end_time": "2025-01-15T05:44:44.108341",
     "exception": false,
     "start_time": "2025-01-15T05:44:43.998197",
     "status": "completed"
    },
    "tags": []
   },
   "outputs": [],
   "source": [
    "import torch\n",
    "import torch.nn as nn\n",
    "import time\n",
    "import os\n",
    "import shutil\n",
    "from tqdm import tqdm\n",
    "from typing import Dict, Any, Optional\n",
    "\n",
    "def train_model(\n",
    "    model: nn.Module,\n",
    "    criterion: nn.Module,\n",
    "    optimizer: torch.optim.Optimizer,\n",
    "    scheduler: torch.optim.lr_scheduler._LRScheduler,\n",
    "    dataloaders: Dict[str, torch.utils.data.DataLoader],\n",
    "    dataset_sizes: Dict[str, int],\n",
    "    device: torch.device,\n",
    "    num_epochs: int = 25,\n",
    "    metric: nn.Module = nn.L1Loss(reduction='mean'),\n",
    "    patience: int = 12,\n",
    "    min_delta: float = 1e-4\n",
    ") -> tuple[nn.Module, Dict[str, Any]]:\n",
    "    \"\"\"\n",
    "    Train a PyTorch model with forward and backward propagation.\n",
    "    \n",
    "    Args:\n",
    "        model: PyTorch model to train\n",
    "        criterion: Loss function\n",
    "        optimizer: Optimization algorithm\n",
    "        scheduler: Learning rate scheduler\n",
    "        dataloaders: Dictionary containing 'train' and 'val' dataloaders\n",
    "        dataset_sizes: Dictionary containing size of 'train' and 'val' datasets\n",
    "        device: Device to train on (cuda/cpu)\n",
    "        num_epochs: Maximum number of epochs to train\n",
    "        metric: Metric to track for model performance (default: MAE)\n",
    "        patience: Number of epochs to wait before early stopping\n",
    "        min_delta: Minimum change in monitored value to qualify as an improvement\n",
    "        \n",
    "    Returns:\n",
    "        tuple: (best_model, training_history)\n",
    "    \"\"\"\n",
    "    since = time.time()\n",
    "    \n",
    "    # Initialize epoch data storage\n",
    "    epoch_data = {\n",
    "        'epoch': [],\n",
    "        'train': {'loss': [], 'MAE': []},\n",
    "        'val': {'loss': [], 'MAE': []}\n",
    "    }\n",
    "    \n",
    "    # Create temporary directory for model checkpoints\n",
    "    tempdir = './temp'\n",
    "    os.makedirs(tempdir, exist_ok=True)\n",
    "    best_model_params_path = os.path.join(tempdir, 'best_model_params.pt')\n",
    "    \n",
    "    # Save initial model state\n",
    "    torch.save(model.state_dict(), best_model_params_path)\n",
    "    \n",
    "    best_mae = float('inf')\n",
    "    no_improve_epochs = 0\n",
    "    \n",
    "    try:\n",
    "        for epoch in range(num_epochs):\n",
    "            print(f'Epoch {epoch+1}/{num_epochs}')\n",
    "            print('-' * 10)\n",
    "            epoch_data['epoch'].append(epoch+1)\n",
    "            \n",
    "            # Training and validation phase\n",
    "            for phase in ['train', 'val']:\n",
    "                if phase == 'train':\n",
    "                    model.train()\n",
    "                else:\n",
    "                    model.eval()\n",
    "                \n",
    "                running_loss = 0.0\n",
    "                running_mae = 0.0\n",
    "                \n",
    "                # Iterate over data\n",
    "                for inputs, targets in tqdm(dataloaders[phase], desc=f'{phase} phase'):\n",
    "                    inputs = inputs.to(device)\n",
    "                    targets = targets.to(device)\n",
    "                    targets = targets.view(-1, 1)\n",
    "                    \n",
    "                    # Zero the parameter gradients\n",
    "                    optimizer.zero_grad()\n",
    "                    \n",
    "                    # Forward pass\n",
    "                    with torch.set_grad_enabled(phase == 'train'):\n",
    "                        outputs = model(inputs)\n",
    "                        loss = criterion(outputs, targets)\n",
    "                        \n",
    "                        # Backward pass + optimize only if in training phase\n",
    "                        if phase == 'train':\n",
    "                            loss.backward()\n",
    "                            optimizer.step()\n",
    "                    \n",
    "                    # Statistics\n",
    "                    batch_size = inputs.size(0)\n",
    "                    running_loss += loss.item() * batch_size\n",
    "                    running_mae += metric(outputs, targets).item() * batch_size\n",
    "                \n",
    "                if phase == 'train':\n",
    "                    scheduler.step()\n",
    "                \n",
    "                # Calculate epoch metrics\n",
    "                epoch_loss = running_loss / dataset_sizes[phase]\n",
    "                epoch_mae = running_mae / dataset_sizes[phase]\n",
    "                \n",
    "                # Store metrics\n",
    "                epoch_data[phase]['loss'].append(epoch_loss)\n",
    "                epoch_data[phase]['MAE'].append(epoch_mae)\n",
    "                \n",
    "                print(f'{phase} Loss: {epoch_loss:.4f} MAE: {epoch_mae:.4f}')\n",
    "                \n",
    "                # Save best model\n",
    "                if phase == 'val':\n",
    "                    if epoch_mae < best_mae - min_delta:\n",
    "                        best_mae = epoch_mae\n",
    "                        torch.save(model.state_dict(), best_model_params_path)\n",
    "                        no_improve_epochs = 0\n",
    "                    else:\n",
    "                        no_improve_epochs += 1\n",
    "                        \n",
    "            \n",
    "            print()\n",
    "            \n",
    "            # Early stopping check\n",
    "            if no_improve_epochs >= patience:\n",
    "                print(f'Early stopping triggered after {epoch + 1} epochs')\n",
    "                break\n",
    "                \n",
    "    except KeyboardInterrupt:\n",
    "        print('Training interrupted by user')\n",
    "    \n",
    "    finally:\n",
    "        time_elapsed = time.time() - since\n",
    "        print(f'Training complete in {time_elapsed // 60:.0f}m {time_elapsed % 60:.0f}s')\n",
    "        print(f'Best val MAE: {best_mae:4f}')\n",
    "        \n",
    "        # Load best model\n",
    "        model.load_state_dict(torch.load(best_model_params_path, weights_only = True))\n",
    "        \n",
    "        # Clean up temporary directory\n",
    "        shutil.rmtree(tempdir)\n",
    "    \n",
    "    return model, best_mae, epoch,  epoch_data, "
   ]
  },
  {
   "cell_type": "code",
   "execution_count": 16,
   "id": "ff2fbd06",
   "metadata": {
    "execution": {
     "iopub.execute_input": "2025-01-15T05:44:44.301728Z",
     "iopub.status.busy": "2025-01-15T05:44:44.301428Z",
     "iopub.status.idle": "2025-01-15T05:44:44.306733Z",
     "shell.execute_reply": "2025-01-15T05:44:44.306010Z"
    },
    "papermill": {
     "duration": 0.102838,
     "end_time": "2025-01-15T05:44:44.307952",
     "exception": false,
     "start_time": "2025-01-15T05:44:44.205114",
     "status": "completed"
    },
    "tags": []
   },
   "outputs": [],
   "source": [
    "def evaluate_model(model, criterion , dataloader):\n",
    "    model.eval()\n",
    "    metric = nn.L1Loss()\n",
    "    running_loss = 0.0\n",
    "    running_mae = 0\n",
    "\n",
    "    for inputs, targets in tqdm(dataloader):\n",
    "        inputs = inputs.to(device)\n",
    "        targets = targets.to(device)\n",
    "        targets = targets.view(-1, 1) \n",
    "        with torch.no_grad():\n",
    "            outputs = model(inputs)\n",
    "            loss = criterion(outputs, targets)\n",
    "\n",
    "            running_loss += loss.item() * inputs.size(0)\n",
    "            running_mae += metric(outputs, targets).item()*inputs.size(0)\n",
    "\n",
    "    eval_loss = running_loss / len(dataloader.dataset)\n",
    "    eval_mae = running_mae / len(dataloader.dataset)\n",
    "\n",
    "    print(f'Evaluation Loss: {eval_loss:.4f} Evaluation MAE: {eval_mae:.4f}')\n",
    "\n",
    "    return eval_loss, eval_mae"
   ]
  },
  {
   "cell_type": "code",
   "execution_count": 17,
   "id": "8f27d33e",
   "metadata": {
    "execution": {
     "iopub.execute_input": "2025-01-15T05:44:44.502299Z",
     "iopub.status.busy": "2025-01-15T05:44:44.502003Z",
     "iopub.status.idle": "2025-01-15T05:44:44.506489Z",
     "shell.execute_reply": "2025-01-15T05:44:44.505757Z"
    },
    "papermill": {
     "duration": 0.102433,
     "end_time": "2025-01-15T05:44:44.507789",
     "exception": false,
     "start_time": "2025-01-15T05:44:44.405356",
     "status": "completed"
    },
    "tags": []
   },
   "outputs": [],
   "source": [
    "class CustomLoss(nn.Module):\n",
    "    def __init__(self, ratio = 0.6):\n",
    "        super().__init__()\n",
    "        self.ratio = ratio\n",
    "        self.mse = nn.MSELoss()\n",
    "        self.mae = nn.L1Loss()\n",
    "\n",
    "    def forward(self, pred, targets):\n",
    "        l1 = self.mse(pred, targets)\n",
    "        l2 = self.mae(pred, targets)\n",
    "        return self.ratio*l1 + (1-self.ratio)*l2"
   ]
  },
  {
   "cell_type": "markdown",
   "id": "605192c5",
   "metadata": {
    "papermill": {
     "duration": 0.095488,
     "end_time": "2025-01-15T05:44:44.700024",
     "exception": false,
     "start_time": "2025-01-15T05:44:44.604536",
     "status": "completed"
    },
    "tags": []
   },
   "source": [
    "### Training the model "
   ]
  },
  {
   "cell_type": "code",
   "execution_count": 18,
   "id": "ebcc1678",
   "metadata": {
    "execution": {
     "iopub.execute_input": "2025-01-15T05:44:44.890548Z",
     "iopub.status.busy": "2025-01-15T05:44:44.890202Z",
     "iopub.status.idle": "2025-01-15T08:45:07.745809Z",
     "shell.execute_reply": "2025-01-15T08:45:07.744762Z"
    },
    "papermill": {
     "duration": 10822.952548,
     "end_time": "2025-01-15T08:45:07.747124",
     "exception": false,
     "start_time": "2025-01-15T05:44:44.794576",
     "status": "completed"
    },
    "tags": []
   },
   "outputs": [
    {
     "name": "stdout",
     "output_type": "stream",
     "text": [
      "Epoch 1/120\n",
      "----------\n"
     ]
    },
    {
     "name": "stderr",
     "output_type": "stream",
     "text": [
      "train phase: 100%|██████████| 226/226 [02:10<00:00,  1.74it/s]\n"
     ]
    },
    {
     "name": "stdout",
     "output_type": "stream",
     "text": [
      "train Loss: 2.2261 MAE: 1.2483\n"
     ]
    },
    {
     "name": "stderr",
     "output_type": "stream",
     "text": [
      "val phase: 100%|██████████| 26/26 [00:03<00:00,  7.79it/s]\n"
     ]
    },
    {
     "name": "stdout",
     "output_type": "stream",
     "text": [
      "val Loss: 0.6436 MAE: 0.6187\n",
      "\n",
      "Epoch 2/120\n",
      "----------\n"
     ]
    },
    {
     "name": "stderr",
     "output_type": "stream",
     "text": [
      "train phase: 100%|██████████| 226/226 [02:05<00:00,  1.80it/s]\n"
     ]
    },
    {
     "name": "stdout",
     "output_type": "stream",
     "text": [
      "train Loss: 0.6742 MAE: 0.6462\n"
     ]
    },
    {
     "name": "stderr",
     "output_type": "stream",
     "text": [
      "val phase: 100%|██████████| 26/26 [00:03<00:00,  8.18it/s]\n"
     ]
    },
    {
     "name": "stdout",
     "output_type": "stream",
     "text": [
      "val Loss: 0.4385 MAE: 0.4998\n",
      "\n",
      "Epoch 3/120\n",
      "----------\n"
     ]
    },
    {
     "name": "stderr",
     "output_type": "stream",
     "text": [
      "train phase: 100%|██████████| 226/226 [02:05<00:00,  1.81it/s]\n"
     ]
    },
    {
     "name": "stdout",
     "output_type": "stream",
     "text": [
      "train Loss: 0.5521 MAE: 0.5720\n"
     ]
    },
    {
     "name": "stderr",
     "output_type": "stream",
     "text": [
      "val phase: 100%|██████████| 26/26 [00:03<00:00,  8.08it/s]\n"
     ]
    },
    {
     "name": "stdout",
     "output_type": "stream",
     "text": [
      "val Loss: 0.4496 MAE: 0.4975\n",
      "\n",
      "Epoch 4/120\n",
      "----------\n"
     ]
    },
    {
     "name": "stderr",
     "output_type": "stream",
     "text": [
      "train phase: 100%|██████████| 226/226 [02:05<00:00,  1.80it/s]\n"
     ]
    },
    {
     "name": "stdout",
     "output_type": "stream",
     "text": [
      "train Loss: 0.4991 MAE: 0.5375\n"
     ]
    },
    {
     "name": "stderr",
     "output_type": "stream",
     "text": [
      "val phase: 100%|██████████| 26/26 [00:03<00:00,  8.00it/s]\n"
     ]
    },
    {
     "name": "stdout",
     "output_type": "stream",
     "text": [
      "val Loss: 0.3884 MAE: 0.4454\n",
      "\n",
      "Epoch 5/120\n",
      "----------\n"
     ]
    },
    {
     "name": "stderr",
     "output_type": "stream",
     "text": [
      "train phase: 100%|██████████| 226/226 [02:05<00:00,  1.80it/s]\n"
     ]
    },
    {
     "name": "stdout",
     "output_type": "stream",
     "text": [
      "train Loss: 0.4554 MAE: 0.5068\n"
     ]
    },
    {
     "name": "stderr",
     "output_type": "stream",
     "text": [
      "val phase: 100%|██████████| 26/26 [00:03<00:00,  8.07it/s]\n"
     ]
    },
    {
     "name": "stdout",
     "output_type": "stream",
     "text": [
      "val Loss: 0.3658 MAE: 0.4416\n",
      "\n",
      "Epoch 6/120\n",
      "----------\n"
     ]
    },
    {
     "name": "stderr",
     "output_type": "stream",
     "text": [
      "train phase: 100%|██████████| 226/226 [02:05<00:00,  1.80it/s]\n"
     ]
    },
    {
     "name": "stdout",
     "output_type": "stream",
     "text": [
      "train Loss: 0.4320 MAE: 0.4880\n"
     ]
    },
    {
     "name": "stderr",
     "output_type": "stream",
     "text": [
      "val phase: 100%|██████████| 26/26 [00:03<00:00,  8.09it/s]\n"
     ]
    },
    {
     "name": "stdout",
     "output_type": "stream",
     "text": [
      "val Loss: 0.3221 MAE: 0.4058\n",
      "\n",
      "Epoch 7/120\n",
      "----------\n"
     ]
    },
    {
     "name": "stderr",
     "output_type": "stream",
     "text": [
      "train phase: 100%|██████████| 226/226 [02:06<00:00,  1.78it/s]\n"
     ]
    },
    {
     "name": "stdout",
     "output_type": "stream",
     "text": [
      "train Loss: 0.4016 MAE: 0.4674\n"
     ]
    },
    {
     "name": "stderr",
     "output_type": "stream",
     "text": [
      "val phase: 100%|██████████| 26/26 [00:03<00:00,  8.09it/s]\n"
     ]
    },
    {
     "name": "stdout",
     "output_type": "stream",
     "text": [
      "val Loss: 0.3411 MAE: 0.4212\n",
      "\n",
      "Epoch 8/120\n",
      "----------\n"
     ]
    },
    {
     "name": "stderr",
     "output_type": "stream",
     "text": [
      "train phase: 100%|██████████| 226/226 [02:06<00:00,  1.79it/s]\n"
     ]
    },
    {
     "name": "stdout",
     "output_type": "stream",
     "text": [
      "train Loss: 0.3912 MAE: 0.4585\n"
     ]
    },
    {
     "name": "stderr",
     "output_type": "stream",
     "text": [
      "val phase: 100%|██████████| 26/26 [00:03<00:00,  7.65it/s]\n"
     ]
    },
    {
     "name": "stdout",
     "output_type": "stream",
     "text": [
      "val Loss: 0.3091 MAE: 0.3920\n",
      "\n",
      "Epoch 9/120\n",
      "----------\n"
     ]
    },
    {
     "name": "stderr",
     "output_type": "stream",
     "text": [
      "train phase: 100%|██████████| 226/226 [02:04<00:00,  1.81it/s]\n"
     ]
    },
    {
     "name": "stdout",
     "output_type": "stream",
     "text": [
      "train Loss: 0.3749 MAE: 0.4467\n"
     ]
    },
    {
     "name": "stderr",
     "output_type": "stream",
     "text": [
      "val phase: 100%|██████████| 26/26 [00:03<00:00,  8.08it/s]\n"
     ]
    },
    {
     "name": "stdout",
     "output_type": "stream",
     "text": [
      "val Loss: 0.2875 MAE: 0.3743\n",
      "\n",
      "Epoch 10/120\n",
      "----------\n"
     ]
    },
    {
     "name": "stderr",
     "output_type": "stream",
     "text": [
      "train phase: 100%|██████████| 226/226 [02:04<00:00,  1.81it/s]\n"
     ]
    },
    {
     "name": "stdout",
     "output_type": "stream",
     "text": [
      "train Loss: 0.3593 MAE: 0.4347\n"
     ]
    },
    {
     "name": "stderr",
     "output_type": "stream",
     "text": [
      "val phase: 100%|██████████| 26/26 [00:03<00:00,  8.25it/s]\n"
     ]
    },
    {
     "name": "stdout",
     "output_type": "stream",
     "text": [
      "val Loss: 0.2890 MAE: 0.3772\n",
      "\n",
      "Epoch 11/120\n",
      "----------\n"
     ]
    },
    {
     "name": "stderr",
     "output_type": "stream",
     "text": [
      "train phase: 100%|██████████| 226/226 [02:05<00:00,  1.81it/s]\n"
     ]
    },
    {
     "name": "stdout",
     "output_type": "stream",
     "text": [
      "train Loss: 0.3340 MAE: 0.4142\n"
     ]
    },
    {
     "name": "stderr",
     "output_type": "stream",
     "text": [
      "val phase: 100%|██████████| 26/26 [00:03<00:00,  8.14it/s]\n"
     ]
    },
    {
     "name": "stdout",
     "output_type": "stream",
     "text": [
      "val Loss: 0.2608 MAE: 0.3523\n",
      "\n",
      "Epoch 12/120\n",
      "----------\n"
     ]
    },
    {
     "name": "stderr",
     "output_type": "stream",
     "text": [
      "train phase: 100%|██████████| 226/226 [02:04<00:00,  1.81it/s]\n"
     ]
    },
    {
     "name": "stdout",
     "output_type": "stream",
     "text": [
      "train Loss: 0.3234 MAE: 0.4059\n"
     ]
    },
    {
     "name": "stderr",
     "output_type": "stream",
     "text": [
      "val phase: 100%|██████████| 26/26 [00:03<00:00,  8.17it/s]\n"
     ]
    },
    {
     "name": "stdout",
     "output_type": "stream",
     "text": [
      "val Loss: 0.2574 MAE: 0.3501\n",
      "\n",
      "Epoch 13/120\n",
      "----------\n"
     ]
    },
    {
     "name": "stderr",
     "output_type": "stream",
     "text": [
      "train phase: 100%|██████████| 226/226 [02:05<00:00,  1.80it/s]\n"
     ]
    },
    {
     "name": "stdout",
     "output_type": "stream",
     "text": [
      "train Loss: 0.3205 MAE: 0.4030\n"
     ]
    },
    {
     "name": "stderr",
     "output_type": "stream",
     "text": [
      "val phase: 100%|██████████| 26/26 [00:03<00:00,  7.92it/s]\n"
     ]
    },
    {
     "name": "stdout",
     "output_type": "stream",
     "text": [
      "val Loss: 0.2608 MAE: 0.3528\n",
      "\n",
      "Epoch 14/120\n",
      "----------\n"
     ]
    },
    {
     "name": "stderr",
     "output_type": "stream",
     "text": [
      "train phase: 100%|██████████| 226/226 [02:06<00:00,  1.79it/s]\n"
     ]
    },
    {
     "name": "stdout",
     "output_type": "stream",
     "text": [
      "train Loss: 0.3189 MAE: 0.4022\n"
     ]
    },
    {
     "name": "stderr",
     "output_type": "stream",
     "text": [
      "val phase: 100%|██████████| 26/26 [00:03<00:00,  8.05it/s]\n"
     ]
    },
    {
     "name": "stdout",
     "output_type": "stream",
     "text": [
      "val Loss: 0.2529 MAE: 0.3456\n",
      "\n",
      "Epoch 15/120\n",
      "----------\n"
     ]
    },
    {
     "name": "stderr",
     "output_type": "stream",
     "text": [
      "train phase: 100%|██████████| 226/226 [02:05<00:00,  1.80it/s]\n"
     ]
    },
    {
     "name": "stdout",
     "output_type": "stream",
     "text": [
      "train Loss: 0.3172 MAE: 0.4010\n"
     ]
    },
    {
     "name": "stderr",
     "output_type": "stream",
     "text": [
      "val phase: 100%|██████████| 26/26 [00:03<00:00,  8.19it/s]\n"
     ]
    },
    {
     "name": "stdout",
     "output_type": "stream",
     "text": [
      "val Loss: 0.2537 MAE: 0.3457\n",
      "\n",
      "Epoch 16/120\n",
      "----------\n"
     ]
    },
    {
     "name": "stderr",
     "output_type": "stream",
     "text": [
      "train phase: 100%|██████████| 226/226 [02:06<00:00,  1.79it/s]\n"
     ]
    },
    {
     "name": "stdout",
     "output_type": "stream",
     "text": [
      "train Loss: 0.3172 MAE: 0.4007\n"
     ]
    },
    {
     "name": "stderr",
     "output_type": "stream",
     "text": [
      "val phase: 100%|██████████| 26/26 [00:03<00:00,  8.29it/s]\n"
     ]
    },
    {
     "name": "stdout",
     "output_type": "stream",
     "text": [
      "val Loss: 0.2560 MAE: 0.3483\n",
      "\n",
      "Epoch 17/120\n",
      "----------\n"
     ]
    },
    {
     "name": "stderr",
     "output_type": "stream",
     "text": [
      "train phase: 100%|██████████| 226/226 [02:06<00:00,  1.79it/s]\n"
     ]
    },
    {
     "name": "stdout",
     "output_type": "stream",
     "text": [
      "train Loss: 0.3176 MAE: 0.4009\n"
     ]
    },
    {
     "name": "stderr",
     "output_type": "stream",
     "text": [
      "val phase: 100%|██████████| 26/26 [00:03<00:00,  8.18it/s]\n"
     ]
    },
    {
     "name": "stdout",
     "output_type": "stream",
     "text": [
      "val Loss: 0.2485 MAE: 0.3404\n",
      "\n",
      "Epoch 18/120\n",
      "----------\n"
     ]
    },
    {
     "name": "stderr",
     "output_type": "stream",
     "text": [
      "train phase: 100%|██████████| 226/226 [02:06<00:00,  1.79it/s]\n"
     ]
    },
    {
     "name": "stdout",
     "output_type": "stream",
     "text": [
      "train Loss: 0.3131 MAE: 0.3967\n"
     ]
    },
    {
     "name": "stderr",
     "output_type": "stream",
     "text": [
      "val phase: 100%|██████████| 26/26 [00:03<00:00,  8.07it/s]\n"
     ]
    },
    {
     "name": "stdout",
     "output_type": "stream",
     "text": [
      "val Loss: 0.2485 MAE: 0.3405\n",
      "\n",
      "Epoch 19/120\n",
      "----------\n"
     ]
    },
    {
     "name": "stderr",
     "output_type": "stream",
     "text": [
      "train phase: 100%|██████████| 226/226 [02:05<00:00,  1.80it/s]\n"
     ]
    },
    {
     "name": "stdout",
     "output_type": "stream",
     "text": [
      "train Loss: 0.3122 MAE: 0.3956\n"
     ]
    },
    {
     "name": "stderr",
     "output_type": "stream",
     "text": [
      "val phase: 100%|██████████| 26/26 [00:03<00:00,  8.32it/s]\n"
     ]
    },
    {
     "name": "stdout",
     "output_type": "stream",
     "text": [
      "val Loss: 0.2419 MAE: 0.3357\n",
      "\n",
      "Epoch 20/120\n",
      "----------\n"
     ]
    },
    {
     "name": "stderr",
     "output_type": "stream",
     "text": [
      "train phase: 100%|██████████| 226/226 [02:04<00:00,  1.81it/s]\n"
     ]
    },
    {
     "name": "stdout",
     "output_type": "stream",
     "text": [
      "train Loss: 0.3100 MAE: 0.3945\n"
     ]
    },
    {
     "name": "stderr",
     "output_type": "stream",
     "text": [
      "val phase: 100%|██████████| 26/26 [00:03<00:00,  8.28it/s]\n"
     ]
    },
    {
     "name": "stdout",
     "output_type": "stream",
     "text": [
      "val Loss: 0.2433 MAE: 0.3357\n",
      "\n",
      "Epoch 21/120\n",
      "----------\n"
     ]
    },
    {
     "name": "stderr",
     "output_type": "stream",
     "text": [
      "train phase: 100%|██████████| 226/226 [02:05<00:00,  1.80it/s]\n"
     ]
    },
    {
     "name": "stdout",
     "output_type": "stream",
     "text": [
      "train Loss: 0.3094 MAE: 0.3935\n"
     ]
    },
    {
     "name": "stderr",
     "output_type": "stream",
     "text": [
      "val phase: 100%|██████████| 26/26 [00:03<00:00,  8.15it/s]\n"
     ]
    },
    {
     "name": "stdout",
     "output_type": "stream",
     "text": [
      "val Loss: 0.2385 MAE: 0.3304\n",
      "\n",
      "Epoch 22/120\n",
      "----------\n"
     ]
    },
    {
     "name": "stderr",
     "output_type": "stream",
     "text": [
      "train phase: 100%|██████████| 226/226 [02:05<00:00,  1.80it/s]\n"
     ]
    },
    {
     "name": "stdout",
     "output_type": "stream",
     "text": [
      "train Loss: 0.3093 MAE: 0.3928\n"
     ]
    },
    {
     "name": "stderr",
     "output_type": "stream",
     "text": [
      "val phase: 100%|██████████| 26/26 [00:03<00:00,  8.26it/s]\n"
     ]
    },
    {
     "name": "stdout",
     "output_type": "stream",
     "text": [
      "val Loss: 0.2353 MAE: 0.3294\n",
      "\n",
      "Epoch 23/120\n",
      "----------\n"
     ]
    },
    {
     "name": "stderr",
     "output_type": "stream",
     "text": [
      "train phase: 100%|██████████| 226/226 [02:04<00:00,  1.81it/s]\n"
     ]
    },
    {
     "name": "stdout",
     "output_type": "stream",
     "text": [
      "train Loss: 0.3062 MAE: 0.3910\n"
     ]
    },
    {
     "name": "stderr",
     "output_type": "stream",
     "text": [
      "val phase: 100%|██████████| 26/26 [00:03<00:00,  8.26it/s]\n"
     ]
    },
    {
     "name": "stdout",
     "output_type": "stream",
     "text": [
      "val Loss: 0.2357 MAE: 0.3283\n",
      "\n",
      "Epoch 24/120\n",
      "----------\n"
     ]
    },
    {
     "name": "stderr",
     "output_type": "stream",
     "text": [
      "train phase: 100%|██████████| 226/226 [02:05<00:00,  1.80it/s]\n"
     ]
    },
    {
     "name": "stdout",
     "output_type": "stream",
     "text": [
      "train Loss: 0.3050 MAE: 0.3895\n"
     ]
    },
    {
     "name": "stderr",
     "output_type": "stream",
     "text": [
      "val phase: 100%|██████████| 26/26 [00:03<00:00,  8.14it/s]\n"
     ]
    },
    {
     "name": "stdout",
     "output_type": "stream",
     "text": [
      "val Loss: 0.2373 MAE: 0.3289\n",
      "\n",
      "Epoch 25/120\n",
      "----------\n"
     ]
    },
    {
     "name": "stderr",
     "output_type": "stream",
     "text": [
      "train phase: 100%|██████████| 226/226 [02:06<00:00,  1.79it/s]\n"
     ]
    },
    {
     "name": "stdout",
     "output_type": "stream",
     "text": [
      "train Loss: 0.3049 MAE: 0.3891\n"
     ]
    },
    {
     "name": "stderr",
     "output_type": "stream",
     "text": [
      "val phase: 100%|██████████| 26/26 [00:03<00:00,  8.18it/s]\n"
     ]
    },
    {
     "name": "stdout",
     "output_type": "stream",
     "text": [
      "val Loss: 0.2462 MAE: 0.3370\n",
      "\n",
      "Epoch 26/120\n",
      "----------\n"
     ]
    },
    {
     "name": "stderr",
     "output_type": "stream",
     "text": [
      "train phase: 100%|██████████| 226/226 [02:05<00:00,  1.80it/s]\n"
     ]
    },
    {
     "name": "stdout",
     "output_type": "stream",
     "text": [
      "train Loss: 0.3015 MAE: 0.3868\n"
     ]
    },
    {
     "name": "stderr",
     "output_type": "stream",
     "text": [
      "val phase: 100%|██████████| 26/26 [00:03<00:00,  7.92it/s]\n"
     ]
    },
    {
     "name": "stdout",
     "output_type": "stream",
     "text": [
      "val Loss: 0.2367 MAE: 0.3286\n",
      "\n",
      "Epoch 27/120\n",
      "----------\n"
     ]
    },
    {
     "name": "stderr",
     "output_type": "stream",
     "text": [
      "train phase: 100%|██████████| 226/226 [02:05<00:00,  1.80it/s]\n"
     ]
    },
    {
     "name": "stdout",
     "output_type": "stream",
     "text": [
      "train Loss: 0.3026 MAE: 0.3871\n"
     ]
    },
    {
     "name": "stderr",
     "output_type": "stream",
     "text": [
      "val phase: 100%|██████████| 26/26 [00:03<00:00,  7.71it/s]\n"
     ]
    },
    {
     "name": "stdout",
     "output_type": "stream",
     "text": [
      "val Loss: 0.2331 MAE: 0.3269\n",
      "\n",
      "Epoch 28/120\n",
      "----------\n"
     ]
    },
    {
     "name": "stderr",
     "output_type": "stream",
     "text": [
      "train phase: 100%|██████████| 226/226 [02:05<00:00,  1.80it/s]\n"
     ]
    },
    {
     "name": "stdout",
     "output_type": "stream",
     "text": [
      "train Loss: 0.2993 MAE: 0.3844\n"
     ]
    },
    {
     "name": "stderr",
     "output_type": "stream",
     "text": [
      "val phase: 100%|██████████| 26/26 [00:03<00:00,  8.26it/s]\n"
     ]
    },
    {
     "name": "stdout",
     "output_type": "stream",
     "text": [
      "val Loss: 0.2324 MAE: 0.3257\n",
      "\n",
      "Epoch 29/120\n",
      "----------\n"
     ]
    },
    {
     "name": "stderr",
     "output_type": "stream",
     "text": [
      "train phase: 100%|██████████| 226/226 [02:06<00:00,  1.79it/s]\n"
     ]
    },
    {
     "name": "stdout",
     "output_type": "stream",
     "text": [
      "train Loss: 0.2999 MAE: 0.3854\n"
     ]
    },
    {
     "name": "stderr",
     "output_type": "stream",
     "text": [
      "val phase: 100%|██████████| 26/26 [00:03<00:00,  8.14it/s]\n"
     ]
    },
    {
     "name": "stdout",
     "output_type": "stream",
     "text": [
      "val Loss: 0.2291 MAE: 0.3220\n",
      "\n",
      "Epoch 30/120\n",
      "----------\n"
     ]
    },
    {
     "name": "stderr",
     "output_type": "stream",
     "text": [
      "train phase: 100%|██████████| 226/226 [02:06<00:00,  1.79it/s]\n"
     ]
    },
    {
     "name": "stdout",
     "output_type": "stream",
     "text": [
      "train Loss: 0.2965 MAE: 0.3818\n"
     ]
    },
    {
     "name": "stderr",
     "output_type": "stream",
     "text": [
      "val phase: 100%|██████████| 26/26 [00:03<00:00,  8.10it/s]\n"
     ]
    },
    {
     "name": "stdout",
     "output_type": "stream",
     "text": [
      "val Loss: 0.2322 MAE: 0.3253\n",
      "\n",
      "Epoch 31/120\n",
      "----------\n"
     ]
    },
    {
     "name": "stderr",
     "output_type": "stream",
     "text": [
      "train phase: 100%|██████████| 226/226 [02:05<00:00,  1.80it/s]\n"
     ]
    },
    {
     "name": "stdout",
     "output_type": "stream",
     "text": [
      "train Loss: 0.2966 MAE: 0.3816\n"
     ]
    },
    {
     "name": "stderr",
     "output_type": "stream",
     "text": [
      "val phase: 100%|██████████| 26/26 [00:03<00:00,  8.33it/s]\n"
     ]
    },
    {
     "name": "stdout",
     "output_type": "stream",
     "text": [
      "val Loss: 0.2260 MAE: 0.3204\n",
      "\n",
      "Epoch 32/120\n",
      "----------\n"
     ]
    },
    {
     "name": "stderr",
     "output_type": "stream",
     "text": [
      "train phase: 100%|██████████| 226/226 [02:03<00:00,  1.83it/s]\n"
     ]
    },
    {
     "name": "stdout",
     "output_type": "stream",
     "text": [
      "train Loss: 0.2936 MAE: 0.3798\n"
     ]
    },
    {
     "name": "stderr",
     "output_type": "stream",
     "text": [
      "val phase: 100%|██████████| 26/26 [00:03<00:00,  8.41it/s]\n"
     ]
    },
    {
     "name": "stdout",
     "output_type": "stream",
     "text": [
      "val Loss: 0.2288 MAE: 0.3215\n",
      "\n",
      "Epoch 33/120\n",
      "----------\n"
     ]
    },
    {
     "name": "stderr",
     "output_type": "stream",
     "text": [
      "train phase: 100%|██████████| 226/226 [02:04<00:00,  1.81it/s]\n"
     ]
    },
    {
     "name": "stdout",
     "output_type": "stream",
     "text": [
      "train Loss: 0.2938 MAE: 0.3791\n"
     ]
    },
    {
     "name": "stderr",
     "output_type": "stream",
     "text": [
      "val phase: 100%|██████████| 26/26 [00:03<00:00,  8.24it/s]\n"
     ]
    },
    {
     "name": "stdout",
     "output_type": "stream",
     "text": [
      "val Loss: 0.2281 MAE: 0.3198\n",
      "\n",
      "Epoch 34/120\n",
      "----------\n"
     ]
    },
    {
     "name": "stderr",
     "output_type": "stream",
     "text": [
      "train phase: 100%|██████████| 226/226 [02:04<00:00,  1.81it/s]\n"
     ]
    },
    {
     "name": "stdout",
     "output_type": "stream",
     "text": [
      "train Loss: 0.2956 MAE: 0.3815\n"
     ]
    },
    {
     "name": "stderr",
     "output_type": "stream",
     "text": [
      "val phase: 100%|██████████| 26/26 [00:03<00:00,  8.25it/s]\n"
     ]
    },
    {
     "name": "stdout",
     "output_type": "stream",
     "text": [
      "val Loss: 0.2248 MAE: 0.3189\n",
      "\n",
      "Epoch 35/120\n",
      "----------\n"
     ]
    },
    {
     "name": "stderr",
     "output_type": "stream",
     "text": [
      "train phase: 100%|██████████| 226/226 [02:05<00:00,  1.80it/s]\n"
     ]
    },
    {
     "name": "stdout",
     "output_type": "stream",
     "text": [
      "train Loss: 0.2901 MAE: 0.3770\n"
     ]
    },
    {
     "name": "stderr",
     "output_type": "stream",
     "text": [
      "val phase: 100%|██████████| 26/26 [00:03<00:00,  8.20it/s]\n"
     ]
    },
    {
     "name": "stdout",
     "output_type": "stream",
     "text": [
      "val Loss: 0.2218 MAE: 0.3158\n",
      "\n",
      "Epoch 36/120\n",
      "----------\n"
     ]
    },
    {
     "name": "stderr",
     "output_type": "stream",
     "text": [
      "train phase: 100%|██████████| 226/226 [02:04<00:00,  1.81it/s]\n"
     ]
    },
    {
     "name": "stdout",
     "output_type": "stream",
     "text": [
      "train Loss: 0.2933 MAE: 0.3789\n"
     ]
    },
    {
     "name": "stderr",
     "output_type": "stream",
     "text": [
      "val phase: 100%|██████████| 26/26 [00:03<00:00,  7.96it/s]\n"
     ]
    },
    {
     "name": "stdout",
     "output_type": "stream",
     "text": [
      "val Loss: 0.2310 MAE: 0.3207\n",
      "\n",
      "Epoch 37/120\n",
      "----------\n"
     ]
    },
    {
     "name": "stderr",
     "output_type": "stream",
     "text": [
      "train phase: 100%|██████████| 226/226 [02:04<00:00,  1.81it/s]\n"
     ]
    },
    {
     "name": "stdout",
     "output_type": "stream",
     "text": [
      "train Loss: 0.2917 MAE: 0.3781\n"
     ]
    },
    {
     "name": "stderr",
     "output_type": "stream",
     "text": [
      "val phase: 100%|██████████| 26/26 [00:03<00:00,  8.24it/s]\n"
     ]
    },
    {
     "name": "stdout",
     "output_type": "stream",
     "text": [
      "val Loss: 0.2176 MAE: 0.3120\n",
      "\n",
      "Epoch 38/120\n",
      "----------\n"
     ]
    },
    {
     "name": "stderr",
     "output_type": "stream",
     "text": [
      "train phase: 100%|██████████| 226/226 [02:05<00:00,  1.81it/s]\n"
     ]
    },
    {
     "name": "stdout",
     "output_type": "stream",
     "text": [
      "train Loss: 0.2909 MAE: 0.3772\n"
     ]
    },
    {
     "name": "stderr",
     "output_type": "stream",
     "text": [
      "val phase: 100%|██████████| 26/26 [00:03<00:00,  8.27it/s]\n"
     ]
    },
    {
     "name": "stdout",
     "output_type": "stream",
     "text": [
      "val Loss: 0.2279 MAE: 0.3185\n",
      "\n",
      "Epoch 39/120\n",
      "----------\n"
     ]
    },
    {
     "name": "stderr",
     "output_type": "stream",
     "text": [
      "train phase: 100%|██████████| 226/226 [02:04<00:00,  1.81it/s]\n"
     ]
    },
    {
     "name": "stdout",
     "output_type": "stream",
     "text": [
      "train Loss: 0.2886 MAE: 0.3742\n"
     ]
    },
    {
     "name": "stderr",
     "output_type": "stream",
     "text": [
      "val phase: 100%|██████████| 26/26 [00:03<00:00,  8.14it/s]\n"
     ]
    },
    {
     "name": "stdout",
     "output_type": "stream",
     "text": [
      "val Loss: 0.2249 MAE: 0.3154\n",
      "\n",
      "Epoch 40/120\n",
      "----------\n"
     ]
    },
    {
     "name": "stderr",
     "output_type": "stream",
     "text": [
      "train phase: 100%|██████████| 226/226 [02:05<00:00,  1.81it/s]\n"
     ]
    },
    {
     "name": "stdout",
     "output_type": "stream",
     "text": [
      "train Loss: 0.2896 MAE: 0.3759\n"
     ]
    },
    {
     "name": "stderr",
     "output_type": "stream",
     "text": [
      "val phase: 100%|██████████| 26/26 [00:03<00:00,  8.27it/s]\n"
     ]
    },
    {
     "name": "stdout",
     "output_type": "stream",
     "text": [
      "val Loss: 0.2325 MAE: 0.3223\n",
      "\n",
      "Epoch 41/120\n",
      "----------\n"
     ]
    },
    {
     "name": "stderr",
     "output_type": "stream",
     "text": [
      "train phase: 100%|██████████| 226/226 [02:05<00:00,  1.80it/s]\n"
     ]
    },
    {
     "name": "stdout",
     "output_type": "stream",
     "text": [
      "train Loss: 0.2871 MAE: 0.3738\n"
     ]
    },
    {
     "name": "stderr",
     "output_type": "stream",
     "text": [
      "val phase: 100%|██████████| 26/26 [00:03<00:00,  8.22it/s]\n"
     ]
    },
    {
     "name": "stdout",
     "output_type": "stream",
     "text": [
      "val Loss: 0.2198 MAE: 0.3113\n",
      "\n",
      "Epoch 42/120\n",
      "----------\n"
     ]
    },
    {
     "name": "stderr",
     "output_type": "stream",
     "text": [
      "train phase: 100%|██████████| 226/226 [02:05<00:00,  1.81it/s]\n"
     ]
    },
    {
     "name": "stdout",
     "output_type": "stream",
     "text": [
      "train Loss: 0.2884 MAE: 0.3741\n"
     ]
    },
    {
     "name": "stderr",
     "output_type": "stream",
     "text": [
      "val phase: 100%|██████████| 26/26 [00:03<00:00,  8.10it/s]\n"
     ]
    },
    {
     "name": "stdout",
     "output_type": "stream",
     "text": [
      "val Loss: 0.2172 MAE: 0.3077\n",
      "\n",
      "Epoch 43/120\n",
      "----------\n"
     ]
    },
    {
     "name": "stderr",
     "output_type": "stream",
     "text": [
      "train phase: 100%|██████████| 226/226 [02:04<00:00,  1.81it/s]\n"
     ]
    },
    {
     "name": "stdout",
     "output_type": "stream",
     "text": [
      "train Loss: 0.2819 MAE: 0.3690\n"
     ]
    },
    {
     "name": "stderr",
     "output_type": "stream",
     "text": [
      "val phase: 100%|██████████| 26/26 [00:03<00:00,  7.98it/s]\n"
     ]
    },
    {
     "name": "stdout",
     "output_type": "stream",
     "text": [
      "val Loss: 0.2157 MAE: 0.3090\n",
      "\n",
      "Epoch 44/120\n",
      "----------\n"
     ]
    },
    {
     "name": "stderr",
     "output_type": "stream",
     "text": [
      "train phase: 100%|██████████| 226/226 [02:05<00:00,  1.81it/s]\n"
     ]
    },
    {
     "name": "stdout",
     "output_type": "stream",
     "text": [
      "train Loss: 0.2819 MAE: 0.3692\n"
     ]
    },
    {
     "name": "stderr",
     "output_type": "stream",
     "text": [
      "val phase: 100%|██████████| 26/26 [00:03<00:00,  8.26it/s]\n"
     ]
    },
    {
     "name": "stdout",
     "output_type": "stream",
     "text": [
      "val Loss: 0.2179 MAE: 0.3094\n",
      "\n",
      "Epoch 45/120\n",
      "----------\n"
     ]
    },
    {
     "name": "stderr",
     "output_type": "stream",
     "text": [
      "train phase: 100%|██████████| 226/226 [02:04<00:00,  1.81it/s]\n"
     ]
    },
    {
     "name": "stdout",
     "output_type": "stream",
     "text": [
      "train Loss: 0.2828 MAE: 0.3700\n"
     ]
    },
    {
     "name": "stderr",
     "output_type": "stream",
     "text": [
      "val phase: 100%|██████████| 26/26 [00:03<00:00,  8.23it/s]\n"
     ]
    },
    {
     "name": "stdout",
     "output_type": "stream",
     "text": [
      "val Loss: 0.2197 MAE: 0.3119\n",
      "\n",
      "Epoch 46/120\n",
      "----------\n"
     ]
    },
    {
     "name": "stderr",
     "output_type": "stream",
     "text": [
      "train phase: 100%|██████████| 226/226 [02:03<00:00,  1.82it/s]\n"
     ]
    },
    {
     "name": "stdout",
     "output_type": "stream",
     "text": [
      "train Loss: 0.2822 MAE: 0.3698\n"
     ]
    },
    {
     "name": "stderr",
     "output_type": "stream",
     "text": [
      "val phase: 100%|██████████| 26/26 [00:03<00:00,  8.41it/s]\n"
     ]
    },
    {
     "name": "stdout",
     "output_type": "stream",
     "text": [
      "val Loss: 0.2150 MAE: 0.3072\n",
      "\n",
      "Epoch 47/120\n",
      "----------\n"
     ]
    },
    {
     "name": "stderr",
     "output_type": "stream",
     "text": [
      "train phase: 100%|██████████| 226/226 [02:05<00:00,  1.80it/s]\n"
     ]
    },
    {
     "name": "stdout",
     "output_type": "stream",
     "text": [
      "train Loss: 0.2815 MAE: 0.3681\n"
     ]
    },
    {
     "name": "stderr",
     "output_type": "stream",
     "text": [
      "val phase: 100%|██████████| 26/26 [00:03<00:00,  8.28it/s]\n"
     ]
    },
    {
     "name": "stdout",
     "output_type": "stream",
     "text": [
      "val Loss: 0.2146 MAE: 0.3064\n",
      "\n",
      "Epoch 48/120\n",
      "----------\n"
     ]
    },
    {
     "name": "stderr",
     "output_type": "stream",
     "text": [
      "train phase: 100%|██████████| 226/226 [02:05<00:00,  1.81it/s]\n"
     ]
    },
    {
     "name": "stdout",
     "output_type": "stream",
     "text": [
      "train Loss: 0.2808 MAE: 0.3680\n"
     ]
    },
    {
     "name": "stderr",
     "output_type": "stream",
     "text": [
      "val phase: 100%|██████████| 26/26 [00:03<00:00,  8.26it/s]\n"
     ]
    },
    {
     "name": "stdout",
     "output_type": "stream",
     "text": [
      "val Loss: 0.2254 MAE: 0.3176\n",
      "\n",
      "Epoch 49/120\n",
      "----------\n"
     ]
    },
    {
     "name": "stderr",
     "output_type": "stream",
     "text": [
      "train phase: 100%|██████████| 226/226 [02:04<00:00,  1.82it/s]\n"
     ]
    },
    {
     "name": "stdout",
     "output_type": "stream",
     "text": [
      "train Loss: 0.2803 MAE: 0.3674\n"
     ]
    },
    {
     "name": "stderr",
     "output_type": "stream",
     "text": [
      "val phase: 100%|██████████| 26/26 [00:03<00:00,  8.30it/s]\n"
     ]
    },
    {
     "name": "stdout",
     "output_type": "stream",
     "text": [
      "val Loss: 0.2148 MAE: 0.3079\n",
      "\n",
      "Epoch 50/120\n",
      "----------\n"
     ]
    },
    {
     "name": "stderr",
     "output_type": "stream",
     "text": [
      "train phase: 100%|██████████| 226/226 [02:04<00:00,  1.82it/s]\n"
     ]
    },
    {
     "name": "stdout",
     "output_type": "stream",
     "text": [
      "train Loss: 0.2813 MAE: 0.3677\n"
     ]
    },
    {
     "name": "stderr",
     "output_type": "stream",
     "text": [
      "val phase: 100%|██████████| 26/26 [00:03<00:00,  8.34it/s]\n"
     ]
    },
    {
     "name": "stdout",
     "output_type": "stream",
     "text": [
      "val Loss: 0.2243 MAE: 0.3177\n",
      "\n",
      "Epoch 51/120\n",
      "----------\n"
     ]
    },
    {
     "name": "stderr",
     "output_type": "stream",
     "text": [
      "train phase: 100%|██████████| 226/226 [02:05<00:00,  1.80it/s]\n"
     ]
    },
    {
     "name": "stdout",
     "output_type": "stream",
     "text": [
      "train Loss: 0.2764 MAE: 0.3631\n"
     ]
    },
    {
     "name": "stderr",
     "output_type": "stream",
     "text": [
      "val phase: 100%|██████████| 26/26 [00:03<00:00,  8.10it/s]\n"
     ]
    },
    {
     "name": "stdout",
     "output_type": "stream",
     "text": [
      "val Loss: 0.2173 MAE: 0.3103\n",
      "\n",
      "Epoch 52/120\n",
      "----------\n"
     ]
    },
    {
     "name": "stderr",
     "output_type": "stream",
     "text": [
      "train phase: 100%|██████████| 226/226 [02:07<00:00,  1.77it/s]\n"
     ]
    },
    {
     "name": "stdout",
     "output_type": "stream",
     "text": [
      "train Loss: 0.2727 MAE: 0.3610\n"
     ]
    },
    {
     "name": "stderr",
     "output_type": "stream",
     "text": [
      "val phase: 100%|██████████| 26/26 [00:03<00:00,  8.11it/s]\n"
     ]
    },
    {
     "name": "stdout",
     "output_type": "stream",
     "text": [
      "val Loss: 0.2106 MAE: 0.3032\n",
      "\n",
      "Epoch 53/120\n",
      "----------\n"
     ]
    },
    {
     "name": "stderr",
     "output_type": "stream",
     "text": [
      "train phase: 100%|██████████| 226/226 [02:05<00:00,  1.80it/s]\n"
     ]
    },
    {
     "name": "stdout",
     "output_type": "stream",
     "text": [
      "train Loss: 0.2761 MAE: 0.3638\n"
     ]
    },
    {
     "name": "stderr",
     "output_type": "stream",
     "text": [
      "val phase: 100%|██████████| 26/26 [00:03<00:00,  7.83it/s]\n"
     ]
    },
    {
     "name": "stdout",
     "output_type": "stream",
     "text": [
      "val Loss: 0.2128 MAE: 0.3048\n",
      "\n",
      "Epoch 54/120\n",
      "----------\n"
     ]
    },
    {
     "name": "stderr",
     "output_type": "stream",
     "text": [
      "train phase: 100%|██████████| 226/226 [02:04<00:00,  1.82it/s]\n"
     ]
    },
    {
     "name": "stdout",
     "output_type": "stream",
     "text": [
      "train Loss: 0.2753 MAE: 0.3627\n"
     ]
    },
    {
     "name": "stderr",
     "output_type": "stream",
     "text": [
      "val phase: 100%|██████████| 26/26 [00:03<00:00,  7.87it/s]\n"
     ]
    },
    {
     "name": "stdout",
     "output_type": "stream",
     "text": [
      "val Loss: 0.2130 MAE: 0.3050\n",
      "\n",
      "Epoch 55/120\n",
      "----------\n"
     ]
    },
    {
     "name": "stderr",
     "output_type": "stream",
     "text": [
      "train phase: 100%|██████████| 226/226 [02:05<00:00,  1.81it/s]\n"
     ]
    },
    {
     "name": "stdout",
     "output_type": "stream",
     "text": [
      "train Loss: 0.2760 MAE: 0.3634\n"
     ]
    },
    {
     "name": "stderr",
     "output_type": "stream",
     "text": [
      "val phase: 100%|██████████| 26/26 [00:03<00:00,  8.24it/s]\n"
     ]
    },
    {
     "name": "stdout",
     "output_type": "stream",
     "text": [
      "val Loss: 0.2117 MAE: 0.3038\n",
      "\n",
      "Epoch 56/120\n",
      "----------\n"
     ]
    },
    {
     "name": "stderr",
     "output_type": "stream",
     "text": [
      "train phase: 100%|██████████| 226/226 [02:05<00:00,  1.80it/s]\n"
     ]
    },
    {
     "name": "stdout",
     "output_type": "stream",
     "text": [
      "train Loss: 0.2751 MAE: 0.3626\n"
     ]
    },
    {
     "name": "stderr",
     "output_type": "stream",
     "text": [
      "val phase: 100%|██████████| 26/26 [00:03<00:00,  8.30it/s]\n"
     ]
    },
    {
     "name": "stdout",
     "output_type": "stream",
     "text": [
      "val Loss: 0.2114 MAE: 0.3039\n",
      "\n",
      "Epoch 57/120\n",
      "----------\n"
     ]
    },
    {
     "name": "stderr",
     "output_type": "stream",
     "text": [
      "train phase: 100%|██████████| 226/226 [02:05<00:00,  1.80it/s]\n"
     ]
    },
    {
     "name": "stdout",
     "output_type": "stream",
     "text": [
      "train Loss: 0.2741 MAE: 0.3620\n"
     ]
    },
    {
     "name": "stderr",
     "output_type": "stream",
     "text": [
      "val phase: 100%|██████████| 26/26 [00:03<00:00,  8.25it/s]\n"
     ]
    },
    {
     "name": "stdout",
     "output_type": "stream",
     "text": [
      "val Loss: 0.2107 MAE: 0.3032\n",
      "\n",
      "Epoch 58/120\n",
      "----------\n"
     ]
    },
    {
     "name": "stderr",
     "output_type": "stream",
     "text": [
      "train phase: 100%|██████████| 226/226 [02:05<00:00,  1.80it/s]\n"
     ]
    },
    {
     "name": "stdout",
     "output_type": "stream",
     "text": [
      "train Loss: 0.2743 MAE: 0.3615\n"
     ]
    },
    {
     "name": "stderr",
     "output_type": "stream",
     "text": [
      "val phase: 100%|██████████| 26/26 [00:03<00:00,  8.33it/s]\n"
     ]
    },
    {
     "name": "stdout",
     "output_type": "stream",
     "text": [
      "val Loss: 0.2102 MAE: 0.3031\n",
      "\n",
      "Epoch 59/120\n",
      "----------\n"
     ]
    },
    {
     "name": "stderr",
     "output_type": "stream",
     "text": [
      "train phase: 100%|██████████| 226/226 [02:05<00:00,  1.80it/s]\n"
     ]
    },
    {
     "name": "stdout",
     "output_type": "stream",
     "text": [
      "train Loss: 0.2740 MAE: 0.3617\n"
     ]
    },
    {
     "name": "stderr",
     "output_type": "stream",
     "text": [
      "val phase: 100%|██████████| 26/26 [00:03<00:00,  8.34it/s]\n"
     ]
    },
    {
     "name": "stdout",
     "output_type": "stream",
     "text": [
      "val Loss: 0.2087 MAE: 0.3017\n",
      "\n",
      "Epoch 60/120\n",
      "----------\n"
     ]
    },
    {
     "name": "stderr",
     "output_type": "stream",
     "text": [
      "train phase: 100%|██████████| 226/226 [02:05<00:00,  1.80it/s]\n"
     ]
    },
    {
     "name": "stdout",
     "output_type": "stream",
     "text": [
      "train Loss: 0.2750 MAE: 0.3626\n"
     ]
    },
    {
     "name": "stderr",
     "output_type": "stream",
     "text": [
      "val phase: 100%|██████████| 26/26 [00:03<00:00,  8.21it/s]\n"
     ]
    },
    {
     "name": "stdout",
     "output_type": "stream",
     "text": [
      "val Loss: 0.2115 MAE: 0.3041\n",
      "\n",
      "Epoch 61/120\n",
      "----------\n"
     ]
    },
    {
     "name": "stderr",
     "output_type": "stream",
     "text": [
      "train phase: 100%|██████████| 226/226 [02:05<00:00,  1.81it/s]\n"
     ]
    },
    {
     "name": "stdout",
     "output_type": "stream",
     "text": [
      "train Loss: 0.2738 MAE: 0.3608\n"
     ]
    },
    {
     "name": "stderr",
     "output_type": "stream",
     "text": [
      "val phase: 100%|██████████| 26/26 [00:03<00:00,  7.84it/s]\n"
     ]
    },
    {
     "name": "stdout",
     "output_type": "stream",
     "text": [
      "val Loss: 0.2108 MAE: 0.3037\n",
      "\n",
      "Epoch 62/120\n",
      "----------\n"
     ]
    },
    {
     "name": "stderr",
     "output_type": "stream",
     "text": [
      "train phase: 100%|██████████| 226/226 [02:05<00:00,  1.80it/s]\n"
     ]
    },
    {
     "name": "stdout",
     "output_type": "stream",
     "text": [
      "train Loss: 0.2720 MAE: 0.3594\n"
     ]
    },
    {
     "name": "stderr",
     "output_type": "stream",
     "text": [
      "val phase: 100%|██████████| 26/26 [00:03<00:00,  8.30it/s]\n"
     ]
    },
    {
     "name": "stdout",
     "output_type": "stream",
     "text": [
      "val Loss: 0.2091 MAE: 0.3018\n",
      "\n",
      "Epoch 63/120\n",
      "----------\n"
     ]
    },
    {
     "name": "stderr",
     "output_type": "stream",
     "text": [
      "train phase: 100%|██████████| 226/226 [02:04<00:00,  1.81it/s]\n"
     ]
    },
    {
     "name": "stdout",
     "output_type": "stream",
     "text": [
      "train Loss: 0.2742 MAE: 0.3619\n"
     ]
    },
    {
     "name": "stderr",
     "output_type": "stream",
     "text": [
      "val phase: 100%|██████████| 26/26 [00:03<00:00,  8.27it/s]\n"
     ]
    },
    {
     "name": "stdout",
     "output_type": "stream",
     "text": [
      "val Loss: 0.2086 MAE: 0.3018\n",
      "\n",
      "Epoch 64/120\n",
      "----------\n"
     ]
    },
    {
     "name": "stderr",
     "output_type": "stream",
     "text": [
      "train phase: 100%|██████████| 226/226 [02:05<00:00,  1.80it/s]\n"
     ]
    },
    {
     "name": "stdout",
     "output_type": "stream",
     "text": [
      "train Loss: 0.2717 MAE: 0.3598\n"
     ]
    },
    {
     "name": "stderr",
     "output_type": "stream",
     "text": [
      "val phase: 100%|██████████| 26/26 [00:03<00:00,  8.23it/s]\n"
     ]
    },
    {
     "name": "stdout",
     "output_type": "stream",
     "text": [
      "val Loss: 0.2107 MAE: 0.3036\n",
      "\n",
      "Epoch 65/120\n",
      "----------\n"
     ]
    },
    {
     "name": "stderr",
     "output_type": "stream",
     "text": [
      "train phase: 100%|██████████| 226/226 [02:06<00:00,  1.79it/s]\n"
     ]
    },
    {
     "name": "stdout",
     "output_type": "stream",
     "text": [
      "train Loss: 0.2755 MAE: 0.3627\n"
     ]
    },
    {
     "name": "stderr",
     "output_type": "stream",
     "text": [
      "val phase: 100%|██████████| 26/26 [00:03<00:00,  7.54it/s]\n"
     ]
    },
    {
     "name": "stdout",
     "output_type": "stream",
     "text": [
      "val Loss: 0.2087 MAE: 0.3008\n",
      "\n",
      "Epoch 66/120\n",
      "----------\n"
     ]
    },
    {
     "name": "stderr",
     "output_type": "stream",
     "text": [
      "train phase: 100%|██████████| 226/226 [02:08<00:00,  1.76it/s]\n"
     ]
    },
    {
     "name": "stdout",
     "output_type": "stream",
     "text": [
      "train Loss: 0.2752 MAE: 0.3622\n"
     ]
    },
    {
     "name": "stderr",
     "output_type": "stream",
     "text": [
      "val phase: 100%|██████████| 26/26 [00:03<00:00,  8.12it/s]\n"
     ]
    },
    {
     "name": "stdout",
     "output_type": "stream",
     "text": [
      "val Loss: 0.2089 MAE: 0.3016\n",
      "\n",
      "Epoch 67/120\n",
      "----------\n"
     ]
    },
    {
     "name": "stderr",
     "output_type": "stream",
     "text": [
      "train phase: 100%|██████████| 226/226 [02:06<00:00,  1.79it/s]\n"
     ]
    },
    {
     "name": "stdout",
     "output_type": "stream",
     "text": [
      "train Loss: 0.2755 MAE: 0.3630\n"
     ]
    },
    {
     "name": "stderr",
     "output_type": "stream",
     "text": [
      "val phase: 100%|██████████| 26/26 [00:03<00:00,  8.28it/s]\n"
     ]
    },
    {
     "name": "stdout",
     "output_type": "stream",
     "text": [
      "val Loss: 0.2064 MAE: 0.2990\n",
      "\n",
      "Epoch 68/120\n",
      "----------\n"
     ]
    },
    {
     "name": "stderr",
     "output_type": "stream",
     "text": [
      "train phase: 100%|██████████| 226/226 [02:05<00:00,  1.80it/s]\n"
     ]
    },
    {
     "name": "stdout",
     "output_type": "stream",
     "text": [
      "train Loss: 0.2742 MAE: 0.3620\n"
     ]
    },
    {
     "name": "stderr",
     "output_type": "stream",
     "text": [
      "val phase: 100%|██████████| 26/26 [00:03<00:00,  8.18it/s]\n"
     ]
    },
    {
     "name": "stdout",
     "output_type": "stream",
     "text": [
      "val Loss: 0.2072 MAE: 0.2998\n",
      "\n",
      "Epoch 69/120\n",
      "----------\n"
     ]
    },
    {
     "name": "stderr",
     "output_type": "stream",
     "text": [
      "train phase: 100%|██████████| 226/226 [02:06<00:00,  1.79it/s]\n"
     ]
    },
    {
     "name": "stdout",
     "output_type": "stream",
     "text": [
      "train Loss: 0.2732 MAE: 0.3600\n"
     ]
    },
    {
     "name": "stderr",
     "output_type": "stream",
     "text": [
      "val phase: 100%|██████████| 26/26 [00:03<00:00,  8.28it/s]\n"
     ]
    },
    {
     "name": "stdout",
     "output_type": "stream",
     "text": [
      "val Loss: 0.2083 MAE: 0.3015\n",
      "\n",
      "Epoch 70/120\n",
      "----------\n"
     ]
    },
    {
     "name": "stderr",
     "output_type": "stream",
     "text": [
      "train phase: 100%|██████████| 226/226 [02:05<00:00,  1.80it/s]\n"
     ]
    },
    {
     "name": "stdout",
     "output_type": "stream",
     "text": [
      "train Loss: 0.2743 MAE: 0.3623\n"
     ]
    },
    {
     "name": "stderr",
     "output_type": "stream",
     "text": [
      "val phase: 100%|██████████| 26/26 [00:03<00:00,  8.28it/s]\n"
     ]
    },
    {
     "name": "stdout",
     "output_type": "stream",
     "text": [
      "val Loss: 0.2089 MAE: 0.3013\n",
      "\n",
      "Epoch 71/120\n",
      "----------\n"
     ]
    },
    {
     "name": "stderr",
     "output_type": "stream",
     "text": [
      "train phase: 100%|██████████| 226/226 [02:05<00:00,  1.80it/s]\n"
     ]
    },
    {
     "name": "stdout",
     "output_type": "stream",
     "text": [
      "train Loss: 0.2729 MAE: 0.3608\n"
     ]
    },
    {
     "name": "stderr",
     "output_type": "stream",
     "text": [
      "val phase: 100%|██████████| 26/26 [00:03<00:00,  7.89it/s]\n"
     ]
    },
    {
     "name": "stdout",
     "output_type": "stream",
     "text": [
      "val Loss: 0.2085 MAE: 0.3007\n",
      "\n",
      "Epoch 72/120\n",
      "----------\n"
     ]
    },
    {
     "name": "stderr",
     "output_type": "stream",
     "text": [
      "train phase: 100%|██████████| 226/226 [02:05<00:00,  1.79it/s]\n"
     ]
    },
    {
     "name": "stdout",
     "output_type": "stream",
     "text": [
      "train Loss: 0.2721 MAE: 0.3593\n"
     ]
    },
    {
     "name": "stderr",
     "output_type": "stream",
     "text": [
      "val phase: 100%|██████████| 26/26 [00:03<00:00,  8.07it/s]\n"
     ]
    },
    {
     "name": "stdout",
     "output_type": "stream",
     "text": [
      "val Loss: 0.2069 MAE: 0.2983\n",
      "\n",
      "Epoch 73/120\n",
      "----------\n"
     ]
    },
    {
     "name": "stderr",
     "output_type": "stream",
     "text": [
      "train phase: 100%|██████████| 226/226 [02:08<00:00,  1.76it/s]\n"
     ]
    },
    {
     "name": "stdout",
     "output_type": "stream",
     "text": [
      "train Loss: 0.2744 MAE: 0.3617\n"
     ]
    },
    {
     "name": "stderr",
     "output_type": "stream",
     "text": [
      "val phase: 100%|██████████| 26/26 [00:03<00:00,  8.22it/s]\n"
     ]
    },
    {
     "name": "stdout",
     "output_type": "stream",
     "text": [
      "val Loss: 0.2082 MAE: 0.3010\n",
      "\n",
      "Epoch 74/120\n",
      "----------\n"
     ]
    },
    {
     "name": "stderr",
     "output_type": "stream",
     "text": [
      "train phase: 100%|██████████| 226/226 [02:07<00:00,  1.78it/s]\n"
     ]
    },
    {
     "name": "stdout",
     "output_type": "stream",
     "text": [
      "train Loss: 0.2706 MAE: 0.3583\n"
     ]
    },
    {
     "name": "stderr",
     "output_type": "stream",
     "text": [
      "val phase: 100%|██████████| 26/26 [00:03<00:00,  8.18it/s]\n"
     ]
    },
    {
     "name": "stdout",
     "output_type": "stream",
     "text": [
      "val Loss: 0.2091 MAE: 0.3025\n",
      "\n",
      "Epoch 75/120\n",
      "----------\n"
     ]
    },
    {
     "name": "stderr",
     "output_type": "stream",
     "text": [
      "train phase: 100%|██████████| 226/226 [02:07<00:00,  1.77it/s]\n"
     ]
    },
    {
     "name": "stdout",
     "output_type": "stream",
     "text": [
      "train Loss: 0.2711 MAE: 0.3592\n"
     ]
    },
    {
     "name": "stderr",
     "output_type": "stream",
     "text": [
      "val phase: 100%|██████████| 26/26 [00:03<00:00,  8.10it/s]\n"
     ]
    },
    {
     "name": "stdout",
     "output_type": "stream",
     "text": [
      "val Loss: 0.2079 MAE: 0.3007\n",
      "\n",
      "Epoch 76/120\n",
      "----------\n"
     ]
    },
    {
     "name": "stderr",
     "output_type": "stream",
     "text": [
      "train phase: 100%|██████████| 226/226 [02:07<00:00,  1.78it/s]\n"
     ]
    },
    {
     "name": "stdout",
     "output_type": "stream",
     "text": [
      "train Loss: 0.2715 MAE: 0.3589\n"
     ]
    },
    {
     "name": "stderr",
     "output_type": "stream",
     "text": [
      "val phase: 100%|██████████| 26/26 [00:03<00:00,  8.07it/s]\n"
     ]
    },
    {
     "name": "stdout",
     "output_type": "stream",
     "text": [
      "val Loss: 0.2073 MAE: 0.2997\n",
      "\n",
      "Epoch 77/120\n",
      "----------\n"
     ]
    },
    {
     "name": "stderr",
     "output_type": "stream",
     "text": [
      "train phase: 100%|██████████| 226/226 [02:06<00:00,  1.78it/s]\n"
     ]
    },
    {
     "name": "stdout",
     "output_type": "stream",
     "text": [
      "train Loss: 0.2714 MAE: 0.3589\n"
     ]
    },
    {
     "name": "stderr",
     "output_type": "stream",
     "text": [
      "val phase: 100%|██████████| 26/26 [00:03<00:00,  8.27it/s]\n"
     ]
    },
    {
     "name": "stdout",
     "output_type": "stream",
     "text": [
      "val Loss: 0.2079 MAE: 0.3005\n",
      "\n",
      "Epoch 78/120\n",
      "----------\n"
     ]
    },
    {
     "name": "stderr",
     "output_type": "stream",
     "text": [
      "train phase: 100%|██████████| 226/226 [02:05<00:00,  1.80it/s]\n"
     ]
    },
    {
     "name": "stdout",
     "output_type": "stream",
     "text": [
      "train Loss: 0.2724 MAE: 0.3606\n"
     ]
    },
    {
     "name": "stderr",
     "output_type": "stream",
     "text": [
      "val phase: 100%|██████████| 26/26 [00:03<00:00,  8.03it/s]\n"
     ]
    },
    {
     "name": "stdout",
     "output_type": "stream",
     "text": [
      "val Loss: 0.2074 MAE: 0.2993\n",
      "\n",
      "Epoch 79/120\n",
      "----------\n"
     ]
    },
    {
     "name": "stderr",
     "output_type": "stream",
     "text": [
      "train phase: 100%|██████████| 226/226 [02:06<00:00,  1.79it/s]\n"
     ]
    },
    {
     "name": "stdout",
     "output_type": "stream",
     "text": [
      "train Loss: 0.2699 MAE: 0.3577\n"
     ]
    },
    {
     "name": "stderr",
     "output_type": "stream",
     "text": [
      "val phase: 100%|██████████| 26/26 [00:03<00:00,  8.11it/s]\n"
     ]
    },
    {
     "name": "stdout",
     "output_type": "stream",
     "text": [
      "val Loss: 0.2073 MAE: 0.3000\n",
      "\n",
      "Epoch 80/120\n",
      "----------\n"
     ]
    },
    {
     "name": "stderr",
     "output_type": "stream",
     "text": [
      "train phase: 100%|██████████| 226/226 [02:04<00:00,  1.81it/s]\n"
     ]
    },
    {
     "name": "stdout",
     "output_type": "stream",
     "text": [
      "train Loss: 0.2726 MAE: 0.3595\n"
     ]
    },
    {
     "name": "stderr",
     "output_type": "stream",
     "text": [
      "val phase: 100%|██████████| 26/26 [00:03<00:00,  8.15it/s]\n"
     ]
    },
    {
     "name": "stdout",
     "output_type": "stream",
     "text": [
      "val Loss: 0.2086 MAE: 0.3013\n",
      "\n",
      "Epoch 81/120\n",
      "----------\n"
     ]
    },
    {
     "name": "stderr",
     "output_type": "stream",
     "text": [
      "train phase: 100%|██████████| 226/226 [02:05<00:00,  1.81it/s]\n"
     ]
    },
    {
     "name": "stdout",
     "output_type": "stream",
     "text": [
      "train Loss: 0.2731 MAE: 0.3606\n"
     ]
    },
    {
     "name": "stderr",
     "output_type": "stream",
     "text": [
      "val phase: 100%|██████████| 26/26 [00:03<00:00,  8.30it/s]\n"
     ]
    },
    {
     "name": "stdout",
     "output_type": "stream",
     "text": [
      "val Loss: 0.2091 MAE: 0.3014\n",
      "\n",
      "Epoch 82/120\n",
      "----------\n"
     ]
    },
    {
     "name": "stderr",
     "output_type": "stream",
     "text": [
      "train phase: 100%|██████████| 226/226 [02:05<00:00,  1.80it/s]\n"
     ]
    },
    {
     "name": "stdout",
     "output_type": "stream",
     "text": [
      "train Loss: 0.2699 MAE: 0.3582\n"
     ]
    },
    {
     "name": "stderr",
     "output_type": "stream",
     "text": [
      "val phase: 100%|██████████| 26/26 [00:03<00:00,  8.33it/s]\n"
     ]
    },
    {
     "name": "stdout",
     "output_type": "stream",
     "text": [
      "val Loss: 0.2063 MAE: 0.2992\n",
      "\n",
      "Epoch 83/120\n",
      "----------\n"
     ]
    },
    {
     "name": "stderr",
     "output_type": "stream",
     "text": [
      "train phase: 100%|██████████| 226/226 [02:04<00:00,  1.82it/s]\n"
     ]
    },
    {
     "name": "stdout",
     "output_type": "stream",
     "text": [
      "train Loss: 0.2699 MAE: 0.3577\n"
     ]
    },
    {
     "name": "stderr",
     "output_type": "stream",
     "text": [
      "val phase: 100%|██████████| 26/26 [00:03<00:00,  8.30it/s]\n"
     ]
    },
    {
     "name": "stdout",
     "output_type": "stream",
     "text": [
      "val Loss: 0.2088 MAE: 0.3013\n",
      "\n",
      "Epoch 84/120\n",
      "----------\n"
     ]
    },
    {
     "name": "stderr",
     "output_type": "stream",
     "text": [
      "train phase: 100%|██████████| 226/226 [02:04<00:00,  1.81it/s]\n"
     ]
    },
    {
     "name": "stdout",
     "output_type": "stream",
     "text": [
      "train Loss: 0.2728 MAE: 0.3611\n"
     ]
    },
    {
     "name": "stderr",
     "output_type": "stream",
     "text": [
      "val phase: 100%|██████████| 26/26 [00:03<00:00,  8.44it/s]\n"
     ]
    },
    {
     "name": "stdout",
     "output_type": "stream",
     "text": [
      "val Loss: 0.2090 MAE: 0.3018\n",
      "\n",
      "Early stopping triggered after 84 epochs\n",
      "Training complete in 180m 22s\n",
      "Best val MAE: 0.298283\n"
     ]
    }
   ],
   "source": [
    "## \n",
    "from torch import optim\n",
    "\n",
    "model = ImageRegressor()\n",
    "model = model.to(device)\n",
    "\n",
    "criterion = CustomLoss()\n",
    "optimizer_ft = optim.Adam(model.parameters(), lr=learning_rate)\n",
    "\n",
    "\n",
    "exp_lr_scheduler = optim.lr_scheduler.MultiStepLR(optimizer_ft, milestones=[50,90], gamma=0.1)\n",
    "\n",
    "\n",
    "model, best_mae, epoch, history = train_model(model, criterion, optimizer_ft, exp_lr_scheduler, dataloaders, dataset_sizes,device, num_epochs = total_epochs)\n"
   ]
  },
  {
   "cell_type": "markdown",
   "id": "9bd9b9ed",
   "metadata": {
    "papermill": {
     "duration": 1.138372,
     "end_time": "2025-01-15T08:45:12.264057",
     "exception": false,
     "start_time": "2025-01-15T08:45:11.125685",
     "status": "completed"
    },
    "tags": []
   },
   "source": [
    "## Plotting the History"
   ]
  },
  {
   "cell_type": "code",
   "execution_count": 20,
   "id": "a4231368",
   "metadata": {
    "execution": {
     "iopub.execute_input": "2025-01-15T08:45:14.554934Z",
     "iopub.status.busy": "2025-01-15T08:45:14.554577Z",
     "iopub.status.idle": "2025-01-15T08:45:14.561706Z",
     "shell.execute_reply": "2025-01-15T08:45:14.560882Z"
    },
    "papermill": {
     "duration": 1.232194,
     "end_time": "2025-01-15T08:45:14.563255",
     "exception": false,
     "start_time": "2025-01-15T08:45:13.331061",
     "status": "completed"
    },
    "tags": []
   },
   "outputs": [],
   "source": [
    "import matplotlib.pyplot as plt\n",
    "\n",
    "def plot_history(history):\n",
    "    \"\"\"\n",
    "    Plots training and validation loss and MAE over epochs from the given data structure.\n",
    "\n",
    "    Parameters:\n",
    "        history (dict): A dictionary containing training and validation metrics per epoch.\n",
    "    \"\"\"\n",
    "    epochs = history['epoch']\n",
    "\n",
    "    # Extract metrics\n",
    "    train_loss = history['train']['loss']\n",
    "    train_mae = history['train']['MAE']\n",
    "    val_loss = history['val']['loss']\n",
    "    val_mae = history['val']['MAE']\n",
    "\n",
    "    # Create subplots for Loss and MAE\n",
    "    fig, axs = plt.subplots(1, 2, figsize=(12, 6))\n",
    "\n",
    "    # Plot Loss\n",
    "    axs[0].plot(epochs, train_loss, label='Train Loss', marker='o', color='blue')\n",
    "    axs[0].plot(epochs, val_loss, label='Validation Loss', marker='o', color='orange')\n",
    "    axs[0].set_title('Loss vs. Epochs')\n",
    "    axs[0].set_xlabel('Epochs')\n",
    "    axs[0].set_ylabel('Loss')\n",
    "    axs[0].legend()\n",
    "    axs[0].grid(True)\n",
    "\n",
    "    # Plot MAE\n",
    "    axs[1].plot(epochs, train_mae, label='Train MAE', marker='o', color='green')\n",
    "    axs[1].plot(epochs, val_mae, label='Validation MAE', marker='o', color='red')\n",
    "    axs[1].set_title('MAE vs. Epochs')\n",
    "    axs[1].set_xlabel('Epochs')\n",
    "    axs[1].set_ylabel('MAE')\n",
    "    axs[1].legend()\n",
    "    axs[1].grid(True)\n",
    "\n",
    "    # Adjust layout and show plots\n",
    "    plt.tight_layout()\n",
    "    plt.show()"
   ]
  },
  {
   "cell_type": "code",
   "execution_count": 21,
   "id": "0184ca89",
   "metadata": {
    "execution": {
     "iopub.execute_input": "2025-01-15T08:45:16.859466Z",
     "iopub.status.busy": "2025-01-15T08:45:16.859103Z",
     "iopub.status.idle": "2025-01-15T08:45:17.379300Z",
     "shell.execute_reply": "2025-01-15T08:45:17.378434Z"
    },
    "papermill": {
     "duration": 1.667146,
     "end_time": "2025-01-15T08:45:17.380770",
     "exception": false,
     "start_time": "2025-01-15T08:45:15.713624",
     "status": "completed"
    },
    "tags": []
   },
   "outputs": [
    {
     "data": {
      "image/png": "[encoded data removed]",
      "text/plain": [
       "<Figure size 1200x600 with 2 Axes>"
      ]
     },
     "metadata": {},
     "output_type": "display_data"
    }
   ],
   "source": [
    "plot_history(history)"
   ]
  },
  {
   "cell_type": "markdown",
   "id": "fe30e948",
   "metadata": {
    "papermill": {
     "duration": 1.148109,
     "end_time": "2025-01-15T08:45:19.590023",
     "exception": false,
     "start_time": "2025-01-15T08:45:18.441914",
     "status": "completed"
    },
    "tags": []
   },
   "source": [
    "## Saving the best model"
   ]
  },
  {
   "cell_type": "code",
   "execution_count": 22,
   "id": "89f2b42c",
   "metadata": {
    "execution": {
     "iopub.execute_input": "2025-01-15T08:45:21.805282Z",
     "iopub.status.busy": "2025-01-15T08:45:21.804977Z",
     "iopub.status.idle": "2025-01-15T08:45:21.922847Z",
     "shell.execute_reply": "2025-01-15T08:45:21.922125Z"
    },
    "papermill": {
     "duration": 1.183805,
     "end_time": "2025-01-15T08:45:21.924299",
     "exception": false,
     "start_time": "2025-01-15T08:45:20.740494",
     "status": "completed"
    },
    "tags": []
   },
   "outputs": [],
   "source": [
    "import pickle\n",
    "os.makedirs('saved_models', exist_ok = True)\n",
    "torch.save(model, f'saved_models/image_regressor_mae_{best_mae}_epoch_{epoch}.pth')\n",
    "torch.save(model.state_dict(), f'saved_models/image_regressor_wts_mae_{best_mae:.4f}_epoch_{epoch}.pth')\n",
    "\n",
    "with open('saved_models/train_history.pkl', 'wb') as f:\n",
    "    pickle.dump(history, f)"
   ]
  },
  {
   "cell_type": "markdown",
   "id": "a40a49a1",
   "metadata": {
    "papermill": {
     "duration": 1.086873,
     "end_time": "2025-01-15T08:45:24.160986",
     "exception": false,
     "start_time": "2025-01-15T08:45:23.074113",
     "status": "completed"
    },
    "tags": []
   },
   "source": [
    "## Evaluating on the Testset"
   ]
  },
  {
   "cell_type": "code",
   "execution_count": 23,
   "id": "42e22ac2",
   "metadata": {
    "execution": {
     "iopub.execute_input": "2025-01-15T08:45:26.431384Z",
     "iopub.status.busy": "2025-01-15T08:45:26.431056Z",
     "iopub.status.idle": "2025-01-15T08:45:29.044678Z",
     "shell.execute_reply": "2025-01-15T08:45:29.043757Z"
    },
    "papermill": {
     "duration": 3.751094,
     "end_time": "2025-01-15T08:45:29.045969",
     "exception": false,
     "start_time": "2025-01-15T08:45:25.294875",
     "status": "completed"
    },
    "tags": []
   },
   "outputs": [
    {
     "name": "stdout",
     "output_type": "stream",
     "text": [
      "Testset Size:  1010 images\n"
     ]
    }
   ],
   "source": [
    "testset = LoadDataset(\n",
    "    test_csv,\n",
    "    root_path,\n",
    "    transforms=transforms['test'],\n",
    "    cache_strategy = CacheStrategy.NO_CACHE\n",
    ")\n",
    "\n",
    "testloader = torch.utils.data.DataLoader(testset, batch_size=batch_size,\n",
    "                                         shuffle=False)\n",
    "\n",
    "print('Testset Size: ', len(testset), 'images')"
   ]
  },
  {
   "cell_type": "code",
   "execution_count": 24,
   "id": "643a0534",
   "metadata": {
    "execution": {
     "iopub.execute_input": "2025-01-15T08:45:31.255863Z",
     "iopub.status.busy": "2025-01-15T08:45:31.255522Z",
     "iopub.status.idle": "2025-01-15T08:45:41.438299Z",
     "shell.execute_reply": "2025-01-15T08:45:41.437454Z"
    },
    "papermill": {
     "duration": 11.243266,
     "end_time": "2025-01-15T08:45:41.439543",
     "exception": false,
     "start_time": "2025-01-15T08:45:30.196277",
     "status": "completed"
    },
    "tags": []
   },
   "outputs": [
    {
     "name": "stderr",
     "output_type": "stream",
     "text": [
      "100%|██████████| 8/8 [00:10<00:00,  1.27s/it]"
     ]
    },
    {
     "name": "stdout",
     "output_type": "stream",
     "text": [
      "Evaluation Loss: 0.1657 Evaluation MAE: 0.2462\n"
     ]
    },
    {
     "name": "stderr",
     "output_type": "stream",
     "text": [
      "\n"
     ]
    }
   ],
   "source": [
    "eval_loss, eval_mae = evaluate_model(model, criterion , testloader)"
   ]
  }
 ],
 "metadata": {
  "kaggle": {
   "accelerator": "gpu",
   "dataSources": [
    {
     "datasetId": 6481953,
     "sourceId": 10468855,
     "sourceType": "datasetVersion"
    },
    {
     "datasetId": 6402174,
     "sourceId": 10469021,
     "sourceType": "datasetVersion"
    }
   ],
   "dockerImageVersionId": 30823,
   "isGpuEnabled": true,
   "isInternetEnabled": true,
   "language": "python",
   "sourceType": "notebook"
  },
  "kernelspec": {
   "display_name": "Python 3",
   "language": "python",
   "name": "python3"
  },
  "language_info": {
   "codemirror_mode": {
    "name": "ipython",
    "version": 3
   },
   "file_extension": ".py",
   "mimetype": "text/x-python",
   "name": "python",
   "nbconvert_exporter": "python",
   "pygments_lexer": "ipython3",
   "version": "3.10.12"
  },
  "papermill": {
   "default_parameters": {},
   "duration": 11229.674932,
   "end_time": "2025-01-15T08:45:45.222262",
   "environment_variables": {},
   "exception": null,
   "input_path": "__notebook__.ipynb",
   "output_path": "__notebook__.ipynb",
   "parameters": {},
   "start_time": "2025-01-15T05:38:35.547330",
   "version": "2.6.0"
  }
 },
 "nbformat": 4,
 "nbformat_minor": 5
}
